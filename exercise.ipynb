{
 "cells": [
  {
   "cell_type": "markdown",
   "id": "contemporary-insertion",
   "metadata": {},
   "source": [
    "# Exercise"
   ]
  },
  {
   "cell_type": "markdown",
   "id": "disabled-stand",
   "metadata": {},
   "source": [
    "## Import libraries and data"
   ]
  },
  {
   "cell_type": "code",
   "execution_count": 2,
   "id": "requested-result",
   "metadata": {},
   "outputs": [],
   "source": [
    "import numpy as np\n",
    "import pandas as pd\n",
    "\n",
    "import matplotlib.pyplot as plt\n",
    "\n",
    "import seaborn as sns\n",
    "from seaborn import regplot\n",
    "\n",
    "import statsmodels.formula.api as smf\n",
    "import statsmodels.api as sm\n",
    "import statsmodels.stats.multicomp as multi\n",
    "\n",
    "import scipy\n",
    "from scipy import stats\n",
    "from scipy.stats import pearsonr\n",
    "\n",
    "from sklearn.preprocessing import MinMaxScaler\n",
    "from sklearn.preprocessing import minmax_scale\n",
    "from sklearn.preprocessing import MaxAbsScaler\n",
    "from sklearn.preprocessing import StandardScaler\n",
    "from sklearn.preprocessing import RobustScaler\n",
    "from sklearn.preprocessing import Normalizer\n",
    "from sklearn.preprocessing import QuantileTransformer\n",
    "from sklearn.preprocessing import PowerTransformer\n",
    "\n",
    "from sklearn.model_selection import train_test_split\n",
    "from sklearn.linear_model import LinearRegression\n",
    "from sklearn.metrics import r2_score\n",
    "from sklearn.metrics import mean_squared_error\n",
    "from sklearn.linear_model import LogisticRegression\n",
    "from sklearn.metrics import classification_report, confusion_matrix\n",
    "\n",
    "import researchpy as rp\n",
    "\n",
    "import plotly.express as px\n",
    "\n",
    "import statistics"
   ]
  },
  {
   "cell_type": "code",
   "execution_count": 3,
   "id": "opponent-carbon",
   "metadata": {},
   "outputs": [],
   "source": [
    "from gapminder import gapminder"
   ]
  },
  {
   "cell_type": "markdown",
   "id": "taken-google",
   "metadata": {},
   "source": [
    "## Workflow"
   ]
  },
  {
   "cell_type": "code",
   "execution_count": 4,
   "id": "young-ozone",
   "metadata": {},
   "outputs": [],
   "source": [
    "# Create variables (dummy variables)\n",
    "\n",
    "# X = df.drop(columns=['country', 'continent', 'gdp_per_cap'])\n",
    "# Y = df.gdp_per_cap\n",
    "\n",
    "# df_dummy = df.drop(columns=['country'])\n",
    "# df_dummy = pd.get_dummies(df_dummy)\n",
    "# X_dummy = df_dummy.drop(columns=['gdp_per_cap'])"
   ]
  },
  {
   "cell_type": "code",
   "execution_count": 5,
   "id": "blind-punishment",
   "metadata": {},
   "outputs": [],
   "source": [
    "# Scale data (scaler, transform)\n",
    "\n",
    "# scaler_standard = StandardScaler()\n",
    "# scaler_standard.fit(X)\n",
    "# X = scaler_standard.transform(X)"
   ]
  },
  {
   "cell_type": "code",
   "execution_count": 6,
   "id": "daily-builder",
   "metadata": {},
   "outputs": [],
   "source": [
    "# Split data set\n",
    "\n",
    "# x_train, x_test, y_train, y_test = train_test_split(X, Y, test_size = 0.2, random_state = 42)"
   ]
  },
  {
   "cell_type": "code",
   "execution_count": 7,
   "id": "controversial-compiler",
   "metadata": {},
   "outputs": [],
   "source": [
    "# Initiate model\n",
    "\n",
    "# model = LinearRegression()"
   ]
  },
  {
   "cell_type": "code",
   "execution_count": 8,
   "id": "amazing-apparatus",
   "metadata": {},
   "outputs": [],
   "source": [
    "# Fit model\n",
    "\n",
    "# results = model.fit(x_train, y_train)"
   ]
  },
  {
   "cell_type": "code",
   "execution_count": 9,
   "id": "excessive-corner",
   "metadata": {},
   "outputs": [],
   "source": [
    "# Predict values\n",
    "\n",
    "# y_predict = model.predict(x_test)\n",
    "# results???"
   ]
  },
  {
   "cell_type": "code",
   "execution_count": 61,
   "id": "velvet-africa",
   "metadata": {},
   "outputs": [],
   "source": [
    "# Calculate R2\n",
    "# score = r2_score(y_test,y_predict)\n",
    "# score"
   ]
  },
  {
   "cell_type": "markdown",
   "id": "smaller-diving",
   "metadata": {},
   "source": [
    "## Import data"
   ]
  },
  {
   "cell_type": "code",
   "execution_count": 18,
   "id": "basic-pepper",
   "metadata": {},
   "outputs": [],
   "source": [
    "df = gapminder"
   ]
  },
  {
   "cell_type": "code",
   "execution_count": 20,
   "id": "nominated-elephant",
   "metadata": {},
   "outputs": [],
   "source": [
    "df = df.rename(columns={'lifeExp':'life_exp', 'pop':'population', 'gdpPercap':'gdp_per_cap'})"
   ]
  },
  {
   "cell_type": "code",
   "execution_count": 21,
   "id": "educational-traveler",
   "metadata": {},
   "outputs": [
    {
     "data": {
      "text/html": [
       "<div>\n",
       "<style scoped>\n",
       "    .dataframe tbody tr th:only-of-type {\n",
       "        vertical-align: middle;\n",
       "    }\n",
       "\n",
       "    .dataframe tbody tr th {\n",
       "        vertical-align: top;\n",
       "    }\n",
       "\n",
       "    .dataframe thead th {\n",
       "        text-align: right;\n",
       "    }\n",
       "</style>\n",
       "<table border=\"1\" class=\"dataframe\">\n",
       "  <thead>\n",
       "    <tr style=\"text-align: right;\">\n",
       "      <th></th>\n",
       "      <th>country</th>\n",
       "      <th>continent</th>\n",
       "      <th>year</th>\n",
       "      <th>life_exp</th>\n",
       "      <th>population</th>\n",
       "      <th>gdp_per_cap</th>\n",
       "    </tr>\n",
       "  </thead>\n",
       "  <tbody>\n",
       "    <tr>\n",
       "      <th>0</th>\n",
       "      <td>Afghanistan</td>\n",
       "      <td>Asia</td>\n",
       "      <td>1952</td>\n",
       "      <td>28.801</td>\n",
       "      <td>8425333</td>\n",
       "      <td>779.445314</td>\n",
       "    </tr>\n",
       "    <tr>\n",
       "      <th>1</th>\n",
       "      <td>Afghanistan</td>\n",
       "      <td>Asia</td>\n",
       "      <td>1957</td>\n",
       "      <td>30.332</td>\n",
       "      <td>9240934</td>\n",
       "      <td>820.853030</td>\n",
       "    </tr>\n",
       "    <tr>\n",
       "      <th>2</th>\n",
       "      <td>Afghanistan</td>\n",
       "      <td>Asia</td>\n",
       "      <td>1962</td>\n",
       "      <td>31.997</td>\n",
       "      <td>10267083</td>\n",
       "      <td>853.100710</td>\n",
       "    </tr>\n",
       "    <tr>\n",
       "      <th>3</th>\n",
       "      <td>Afghanistan</td>\n",
       "      <td>Asia</td>\n",
       "      <td>1967</td>\n",
       "      <td>34.020</td>\n",
       "      <td>11537966</td>\n",
       "      <td>836.197138</td>\n",
       "    </tr>\n",
       "    <tr>\n",
       "      <th>4</th>\n",
       "      <td>Afghanistan</td>\n",
       "      <td>Asia</td>\n",
       "      <td>1972</td>\n",
       "      <td>36.088</td>\n",
       "      <td>13079460</td>\n",
       "      <td>739.981106</td>\n",
       "    </tr>\n",
       "  </tbody>\n",
       "</table>\n",
       "</div>"
      ],
      "text/plain": [
       "       country continent  year  life_exp  population  gdp_per_cap\n",
       "0  Afghanistan      Asia  1952    28.801     8425333   779.445314\n",
       "1  Afghanistan      Asia  1957    30.332     9240934   820.853030\n",
       "2  Afghanistan      Asia  1962    31.997    10267083   853.100710\n",
       "3  Afghanistan      Asia  1967    34.020    11537966   836.197138\n",
       "4  Afghanistan      Asia  1972    36.088    13079460   739.981106"
      ]
     },
     "execution_count": 21,
     "metadata": {},
     "output_type": "execute_result"
    }
   ],
   "source": [
    "df.head()"
   ]
  },
  {
   "cell_type": "markdown",
   "id": "inclusive-blend",
   "metadata": {},
   "source": [
    "## Exercise"
   ]
  },
  {
   "cell_type": "code",
   "execution_count": 13,
   "id": "opened-single",
   "metadata": {},
   "outputs": [],
   "source": [
    "# Create variables"
   ]
  },
  {
   "cell_type": "code",
   "execution_count": 25,
   "id": "alert-closure",
   "metadata": {},
   "outputs": [],
   "source": [
    "X = df.drop(columns=['gdp_per_cap', 'country', 'continent'])"
   ]
  },
  {
   "cell_type": "code",
   "execution_count": 26,
   "id": "cardiac-jewelry",
   "metadata": {},
   "outputs": [],
   "source": [
    "Y = df.gdp_per_cap"
   ]
  },
  {
   "cell_type": "code",
   "execution_count": null,
   "id": "civil-federal",
   "metadata": {},
   "outputs": [],
   "source": [
    "# Scale data"
   ]
  },
  {
   "cell_type": "code",
   "execution_count": 27,
   "id": "faced-contemporary",
   "metadata": {},
   "outputs": [],
   "source": [
    "standard_scaler = StandardScaler()"
   ]
  },
  {
   "cell_type": "code",
   "execution_count": 28,
   "id": "considerable-possible",
   "metadata": {},
   "outputs": [
    {
     "data": {
      "text/plain": [
       "StandardScaler()"
      ]
     },
     "execution_count": 28,
     "metadata": {},
     "output_type": "execute_result"
    }
   ],
   "source": [
    "standard_scaler.fit(X)"
   ]
  },
  {
   "cell_type": "code",
   "execution_count": 29,
   "id": "enhanced-superior",
   "metadata": {},
   "outputs": [],
   "source": [
    "X = standard_scaler.transform(X)"
   ]
  },
  {
   "cell_type": "code",
   "execution_count": 31,
   "id": "spanish-psychiatry",
   "metadata": {},
   "outputs": [],
   "source": [
    "# Split data set"
   ]
  },
  {
   "cell_type": "code",
   "execution_count": 42,
   "id": "pleasant-nursing",
   "metadata": {},
   "outputs": [],
   "source": [
    "x_train, x_test, y_train, y_test = train_test_split(X, Y, test_size = 0.25, random_state = 42)"
   ]
  },
  {
   "cell_type": "code",
   "execution_count": 46,
   "id": "imported-endorsement",
   "metadata": {},
   "outputs": [],
   "source": [
    "# Initiate model"
   ]
  },
  {
   "cell_type": "code",
   "execution_count": 47,
   "id": "understood-whale",
   "metadata": {},
   "outputs": [],
   "source": [
    "model = LinearRegression()"
   ]
  },
  {
   "cell_type": "code",
   "execution_count": 48,
   "id": "iraqi-guess",
   "metadata": {},
   "outputs": [],
   "source": [
    "# Fit model"
   ]
  },
  {
   "cell_type": "code",
   "execution_count": 49,
   "id": "satisfactory-imaging",
   "metadata": {},
   "outputs": [],
   "source": [
    "results = model.fit(x_train, y_train)"
   ]
  },
  {
   "cell_type": "code",
   "execution_count": 50,
   "id": "english-commerce",
   "metadata": {},
   "outputs": [],
   "source": [
    "# Predict values"
   ]
  },
  {
   "cell_type": "code",
   "execution_count": 55,
   "id": "scenic-vector",
   "metadata": {},
   "outputs": [],
   "source": [
    "y_predict = model.predict(x_test)"
   ]
  },
  {
   "cell_type": "code",
   "execution_count": 56,
   "id": "unlikely-kruger",
   "metadata": {},
   "outputs": [
    {
     "data": {
      "text/plain": [
       "array([ 1150.16498153, 12379.84083417, 12410.69027423,  4965.99110011,\n",
       "       10590.46130612,  3130.84381834,  3090.71699667, 14132.18894343,\n",
       "        2410.45910824, 12473.31364898, 14516.00686422, 13520.43826888,\n",
       "       14514.90290584,  -706.29515775, 11502.8385927 , 15884.31500138,\n",
       "        2052.49448675,  9338.67089622,  3546.95900025,  7559.10870444,\n",
       "       13556.0762734 , 12722.80991582, 12695.6939273 ,  9213.43625853,\n",
       "        4071.76460588, 12693.48469643, 13660.90825507,  2794.3068054 ,\n",
       "        8886.59038738, 10518.90037291, 11533.71965117,  -150.14754821,\n",
       "       11551.73844037,  2444.3420892 ,  3335.7070266 , -1158.80464884,\n",
       "        5672.89622795,   423.32958337,   798.91968454, 10419.7684111 ,\n",
       "        2439.74968542, 16372.95941498, 12470.93843689,  6453.05964048,\n",
       "       12835.87465238, 13359.76040671, -1324.11745728,  4036.38016144,\n",
       "       -2635.11544417,  2654.86242071,   621.29881796, 14586.25113663,\n",
       "       12909.43388243,  1693.91981627, -3190.07749288, 13974.55877591,\n",
       "        2591.19347956, 10203.37069563, 12058.23340372, 14941.87154095,\n",
       "        7759.26950664,  5511.45789836, -2627.31138575, 12168.07426306,\n",
       "        9454.73164289, 14824.98364532,  1100.31120534,  6591.84029174,\n",
       "        2550.41823599, 15801.57257818,  9756.10143327,  6066.02158584,\n",
       "       14498.94402961,  2193.09049942, -1277.40983188,  1663.33463922,\n",
       "        6539.31736683, 13897.5742001 ,  4589.95298158, 10628.32695808,\n",
       "       15140.37919702,  8524.32577365,  7675.92914116,  6202.4577839 ,\n",
       "       11529.22656824,  7992.66195852,  6742.23228356, 12876.71246492,\n",
       "       12968.33902863,  5703.37370601,  8753.63846088, 11619.39983008,\n",
       "        8138.70383481, 13370.90763284, 15451.97143545,  1566.67789673,\n",
       "          93.71686108,  1893.65485555, 12331.72800344, 13131.8088769 ,\n",
       "        4851.45194201,    17.95245523,   447.14417789, 11778.22715662,\n",
       "       11016.0520022 ,  1351.22928359, 11576.39047724, 12494.70735536,\n",
       "       -1996.30829522, 13628.6191025 , 12956.05873263,  8855.69904223,\n",
       "       12144.01364106,  2096.63006784,  1239.77977206, 14167.11920237,\n",
       "        3324.69806598,    92.5417427 , 10775.51516239, 14289.85030918,\n",
       "        4349.30441915, 15484.28070297, 14309.24345131,  -615.82728833,\n",
       "       16081.74102296,  9739.73626322, 11423.50778869, 14154.83116853,\n",
       "        5440.73882964,  3584.47630312, 12543.89667769, -1614.49820307,\n",
       "       10185.2018052 , 15838.8667837 , 14695.70689999,  1185.9258708 ,\n",
       "       13786.20344882,   288.78869555,  5511.98877036, 12706.11902867,\n",
       "        6446.06407303, 12573.92873152,  3487.95842951,  1344.03373802,\n",
       "        2865.06551112, -2504.2185508 ,  2467.35167843, 14195.95639076,\n",
       "       12667.494243  ,  9462.54590785,  2186.5141942 ,  1823.19018319,\n",
       "       15450.4917109 ,  7345.45035531,  -255.38947815,  8949.73828717,\n",
       "        8936.13715524, 10823.27113074, 12578.59058506, -3040.41943129,\n",
       "        8591.68122344,  1889.15029088,  8990.64506883,   895.58197236,\n",
       "        3068.28479735, 16548.95721728,  8106.62092493, 10243.7155376 ,\n",
       "       10310.55083801,  8307.06834543, 13852.13611095,  2678.71140083,\n",
       "       13511.7262237 , 14968.37068417,  5199.13458639,  4666.95623437,\n",
       "         781.97881882,  6427.16953836, 12260.36432217,  -529.39331346,\n",
       "       15246.0016465 , 15274.36772246,  3826.69907669, 11081.55616392,\n",
       "        3896.08668847,   921.57251369, 11015.93627634, 11700.37379911,\n",
       "       12499.8100059 , 12008.795485  , 13307.22054548, 12593.51449334,\n",
       "       13328.41197155,   652.07993953,  7127.85066836, 12833.07277838,\n",
       "        2764.93162811, 10487.12013779, 10033.12073992,  2632.54409623,\n",
       "       12750.89937824,  4177.77903349,  4199.74297331,  8167.72846146,\n",
       "        6096.22800415, -3457.03689076, 15110.73653635,  6948.9173012 ,\n",
       "       11230.75969285,  1042.24333171,  8464.83833681,  6140.49825856,\n",
       "       14109.58538878, 15562.47459052,  8584.92211289,  8274.63401284,\n",
       "        -197.36512656, 16287.17633054, -3109.06058848, 12837.79132453,\n",
       "        7108.34908272,  1696.91247439,  6565.41064008,   452.33298275,\n",
       "        4928.47222731, 12382.55140535, 10924.31817602,  9580.47788093,\n",
       "       11894.27557325, 14923.73387212, 12938.41913631,  4316.53738538,\n",
       "        8128.9517258 , 14199.34946903, 11693.11208608,  3964.40598555,\n",
       "        2553.97826224,  3689.91676377,   245.18108142, -3880.1118959 ,\n",
       "       15727.60495992, 11167.55783191,  9311.31600027,  6538.85974313,\n",
       "        8047.35457417,  8645.74561668,  2734.63220724,  6804.9140115 ,\n",
       "        7891.02910725, 12869.19191225, -3467.37930281, 13699.67068499,\n",
       "        6541.17190782, -1227.4414068 , 12371.79041022, 13930.17178331,\n",
       "       -2783.96425524, -1135.67720578,  4625.82407724,  5711.05970631,\n",
       "       -2237.52081182,  3875.71729574, 16021.81741821, 12110.52676323,\n",
       "       -1598.89597928, 11868.80038392, 12980.12690159, 12604.55425135,\n",
       "       15769.95251556, 11903.73659457, 13234.78368603,  3415.32723698,\n",
       "        3081.39233589,  2973.40032368,  5702.77020593,  2211.22358658,\n",
       "        3680.4044482 , 14474.02182378, 10901.64592142,  4273.23266446,\n",
       "        3655.84520671,  8645.52648859, 13957.01950031, 12021.30689032,\n",
       "       -1664.57139844,  4610.15615481,  8699.15137877,  9034.68389452,\n",
       "       11744.39369944, 12399.94950285, 11915.65847065,  1484.69833078,\n",
       "       15621.40467464,  8006.77200386,  1473.08944072,  2111.02226296,\n",
       "       10883.59524623, -1002.43329993, -1840.03806931,  2362.871064  ,\n",
       "        7630.52423069,  9302.11565789, -1107.43400901, 14248.54869332,\n",
       "       12602.45452219,  1476.90691907,  2634.1664506 ,  6026.81303038,\n",
       "       14505.10201814, 13337.42281975, 14008.34812161,   210.62510127,\n",
       "       -2952.98819119,  8535.50763836,   958.04064242,  4902.40419978,\n",
       "       -2224.28486157, 12631.14605951, -1688.27829511,  9454.26290547,\n",
       "       -1818.14630926,   666.86357678,  2674.41572409, 10560.15924723,\n",
       "        1246.31307738,  2184.43969363,  7930.84057105, 12440.87153749,\n",
       "        3820.04289846,   614.58021972,  3165.6720756 ,  8958.01009994,\n",
       "       13047.33498272, 12271.97117294,  -132.21354489, 13629.42629118,\n",
       "        4528.53545992,  1566.29275931,  4799.42529432,  6093.76373423,\n",
       "       11184.3860185 , 11128.77710842, -1205.10090986, -4263.65608885,\n",
       "       15416.7936274 ,  7986.81382416, -5410.47429739, -1187.2966503 ,\n",
       "        3453.20333302, 12859.87211298,  -630.28714948,  4421.10312487,\n",
       "        9896.06562984, 15150.51798938, 16926.14129677,  1664.3116567 ,\n",
       "        4548.4054919 ,  -765.40126296,  -413.1399986 ,  5521.35903563,\n",
       "         979.03467391, 16968.79035663, 14135.66472492, 12547.4520624 ,\n",
       "        9159.04903201,  3177.8479264 , 14013.90943306,  -290.63198358,\n",
       "       11306.88261981, 14401.12067644, -1747.89610416, 13291.65204735,\n",
       "        -289.67047804, -5269.03433661, 10529.30865331, -4524.92045917,\n",
       "        1236.85641596, 11758.89311848,  3240.90179702, 13074.43407159,\n",
       "       12160.49846003,  5227.86465491, 15545.07133794,  9487.28721885,\n",
       "        4674.90252765,  1543.26850677, 13540.10211006, 14344.38287724,\n",
       "        -498.52002065,   475.19082731,  2265.20910459, 15239.87020836,\n",
       "        1981.94872408, 12898.22553123, 12583.3057289 ,   188.58714074,\n",
       "       14623.99131724,  2463.24671715, -9467.50794939,   404.18354852,\n",
       "        -266.89588311,  8809.80500111,  8601.62833411,  -378.08313399,\n",
       "       11403.58210583,  2118.50504036, 11770.19139765, 10727.24607934,\n",
       "        2675.4390545 , 10611.70873724, 14483.5338946 , 12285.80562384,\n",
       "       11500.50163096,  2320.26085459, -3119.86000746,  7287.35030377,\n",
       "         722.00463475,  3996.48933952,  5506.66026076, 12017.01517397,\n",
       "        6439.9749916 , 12690.02563959, 11923.44460272, 15431.42591305,\n",
       "        1501.6806864 ,  4665.58498195])"
      ]
     },
     "execution_count": 56,
     "metadata": {},
     "output_type": "execute_result"
    }
   ],
   "source": [
    "y_predict"
   ]
  },
  {
   "cell_type": "code",
   "execution_count": 59,
   "id": "retained-interaction",
   "metadata": {},
   "outputs": [],
   "source": [
    "# Calculate R2"
   ]
  },
  {
   "cell_type": "code",
   "execution_count": 62,
   "id": "entire-arbor",
   "metadata": {},
   "outputs": [],
   "source": [
    "score = r2_score(y_test, y_predict)"
   ]
  },
  {
   "cell_type": "code",
   "execution_count": 63,
   "id": "athletic-implement",
   "metadata": {},
   "outputs": [
    {
     "data": {
      "text/plain": [
       "0.48376963945000473"
      ]
     },
     "execution_count": 63,
     "metadata": {},
     "output_type": "execute_result"
    }
   ],
   "source": [
    "score"
   ]
  },
  {
   "cell_type": "code",
   "execution_count": null,
   "id": "boring-angle",
   "metadata": {},
   "outputs": [],
   "source": []
  }
 ],
 "metadata": {
  "kernelspec": {
   "display_name": "Python [conda env:root] *",
   "language": "python",
   "name": "conda-root-py"
  },
  "language_info": {
   "codemirror_mode": {
    "name": "ipython",
    "version": 3
   },
   "file_extension": ".py",
   "mimetype": "text/x-python",
   "name": "python",
   "nbconvert_exporter": "python",
   "pygments_lexer": "ipython3",
   "version": "3.8.8"
  }
 },
 "nbformat": 4,
 "nbformat_minor": 5
}
