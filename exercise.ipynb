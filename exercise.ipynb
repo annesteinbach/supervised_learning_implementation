{
 "cells": [
  {
   "cell_type": "markdown",
   "id": "aquatic-termination",
   "metadata": {},
   "source": [
    "# Exercise"
   ]
  },
  {
   "cell_type": "markdown",
   "id": "disabled-stand",
   "metadata": {},
   "source": [
    "## Import libraries and data"
   ]
  },
  {
   "cell_type": "code",
   "execution_count": 325,
   "id": "requested-result",
   "metadata": {},
   "outputs": [],
   "source": [
    "import numpy as np\n",
    "import pandas as pd\n",
    "\n",
    "import matplotlib.pyplot as plt\n",
    "\n",
    "import seaborn as sns\n",
    "from seaborn import regplot\n",
    "\n",
    "import statsmodels.formula.api as smf\n",
    "import statsmodels.api as sm\n",
    "import statsmodels.stats.multicomp as multi\n",
    "\n",
    "import scipy\n",
    "from scipy import stats\n",
    "from scipy.stats import pearsonr\n",
    "\n",
    "from sklearn.preprocessing import MinMaxScaler\n",
    "from sklearn.preprocessing import minmax_scale\n",
    "from sklearn.preprocessing import MaxAbsScaler\n",
    "from sklearn.preprocessing import StandardScaler\n",
    "from sklearn.preprocessing import RobustScaler\n",
    "from sklearn.preprocessing import Normalizer\n",
    "from sklearn.preprocessing import QuantileTransformer\n",
    "from sklearn.preprocessing import PowerTransformer\n",
    "\n",
    "from sklearn.model_selection import train_test_split\n",
    "from sklearn.linear_model import LinearRegression\n",
    "from sklearn.metrics import r2_score\n",
    "from sklearn.metrics import mean_squared_error\n",
    "from sklearn.linear_model import LogisticRegression\n",
    "from sklearn.metrics import classification_report, confusion_matrix\n",
    "\n",
    "import researchpy as rp\n",
    "\n",
    "import plotly.express as px\n",
    "\n",
    "import statistics"
   ]
  },
  {
   "cell_type": "code",
   "execution_count": 326,
   "id": "opponent-carbon",
   "metadata": {},
   "outputs": [],
   "source": [
    "from gapminder import gapminder"
   ]
  },
  {
   "cell_type": "markdown",
   "id": "taken-google",
   "metadata": {},
   "source": [
    "## Workflow"
   ]
  },
  {
   "cell_type": "code",
   "execution_count": null,
   "id": "young-ozone",
   "metadata": {},
   "outputs": [],
   "source": [
    "# Create variables (dummy variables)\n",
    "\n",
    "# X = df.drop(columns=['country', 'continent', 'gdp_per_cap'])\n",
    "# Y = df.gdp_per_cap\n",
    "\n",
    "# df_dummy = df.drop(columns=['country'])\n",
    "# df_dummy = pd.get_dummies(df_dummy)\n",
    "# X_dummy = df_dummy.drop(columns=['gdp_per_cap'])"
   ]
  },
  {
   "cell_type": "code",
   "execution_count": null,
   "id": "blind-punishment",
   "metadata": {},
   "outputs": [],
   "source": [
    "# Scale data (scaler, transform)\n",
    "\n",
    "# scaler_standard = StandardScaler()\n",
    "# scaler_standard.fit(X)\n",
    "# X = scaler_standard.transform(X)"
   ]
  },
  {
   "cell_type": "code",
   "execution_count": null,
   "id": "daily-builder",
   "metadata": {},
   "outputs": [],
   "source": [
    "# Split data set\n",
    "\n",
    "# x_train, x_test, y_train, y_test = train_test_split(X, Y, test_size = 0.2, random_state = 42)"
   ]
  },
  {
   "cell_type": "code",
   "execution_count": 412,
   "id": "controversial-compiler",
   "metadata": {},
   "outputs": [],
   "source": [
    "# Initiate model\n",
    "\n",
    "# model = LinearRegression()"
   ]
  },
  {
   "cell_type": "code",
   "execution_count": 413,
   "id": "amazing-apparatus",
   "metadata": {},
   "outputs": [],
   "source": [
    "# Fit model\n",
    "\n",
    "# results = model.fit(x_train, y_train)"
   ]
  },
  {
   "cell_type": "code",
   "execution_count": null,
   "id": "excessive-corner",
   "metadata": {},
   "outputs": [],
   "source": [
    "# Predict values\n",
    "\n",
    "# y_predict = model.predict(x_test)\n",
    "# results???"
   ]
  },
  {
   "cell_type": "code",
   "execution_count": null,
   "id": "velvet-africa",
   "metadata": {},
   "outputs": [],
   "source": [
    "# Calculate R2\n",
    "# score_scaler = r2_score(y_test,y_predict)\n",
    "# score_scaler"
   ]
  },
  {
   "cell_type": "markdown",
   "id": "tutorial-omega",
   "metadata": {},
   "source": [
    "## Import data"
   ]
  },
  {
   "cell_type": "code",
   "execution_count": null,
   "id": "collaborative-highland",
   "metadata": {},
   "outputs": [],
   "source": [
    "df = pd.read_csv('data.csv')"
   ]
  }
 ],
 "metadata": {
  "kernelspec": {
   "display_name": "Python [conda env:root] *",
   "language": "python",
   "name": "conda-root-py"
  },
  "language_info": {
   "codemirror_mode": {
    "name": "ipython",
    "version": 3
   },
   "file_extension": ".py",
   "mimetype": "text/x-python",
   "name": "python",
   "nbconvert_exporter": "python",
   "pygments_lexer": "ipython3",
   "version": "3.8.8"
  }
 },
 "nbformat": 4,
 "nbformat_minor": 5
}
