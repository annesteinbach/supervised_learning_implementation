{
 "cells": [
  {
   "cell_type": "markdown",
   "id": "indie-affiliate",
   "metadata": {},
   "source": [
    "# Linear Regression"
   ]
  },
  {
   "cell_type": "markdown",
   "id": "disabled-stand",
   "metadata": {},
   "source": [
    "## Import libraries and data"
   ]
  },
  {
   "cell_type": "code",
   "execution_count": 325,
   "id": "requested-result",
   "metadata": {},
   "outputs": [],
   "source": [
    "import numpy as np\n",
    "import pandas as pd\n",
    "\n",
    "import matplotlib.pyplot as plt\n",
    "\n",
    "import seaborn as sns\n",
    "from seaborn import regplot\n",
    "\n",
    "import statsmodels.formula.api as smf\n",
    "import statsmodels.api as sm\n",
    "import statsmodels.stats.multicomp as multi\n",
    "\n",
    "import scipy\n",
    "from scipy import stats\n",
    "from scipy.stats import pearsonr\n",
    "\n",
    "from sklearn.preprocessing import MinMaxScaler\n",
    "from sklearn.preprocessing import minmax_scale\n",
    "from sklearn.preprocessing import MaxAbsScaler\n",
    "from sklearn.preprocessing import StandardScaler\n",
    "from sklearn.preprocessing import RobustScaler\n",
    "from sklearn.preprocessing import Normalizer\n",
    "from sklearn.preprocessing import QuantileTransformer\n",
    "from sklearn.preprocessing import PowerTransformer\n",
    "\n",
    "from sklearn.model_selection import train_test_split\n",
    "from sklearn.linear_model import LinearRegression\n",
    "from sklearn.metrics import r2_score\n",
    "from sklearn.metrics import mean_squared_error\n",
    "from sklearn.linear_model import LogisticRegression\n",
    "from sklearn.metrics import classification_report, confusion_matrix\n",
    "\n",
    "import researchpy as rp\n",
    "\n",
    "import plotly.express as px\n",
    "\n",
    "import statistics"
   ]
  },
  {
   "cell_type": "code",
   "execution_count": 326,
   "id": "opponent-carbon",
   "metadata": {},
   "outputs": [],
   "source": [
    "from gapminder import gapminder"
   ]
  },
  {
   "cell_type": "markdown",
   "id": "responsible-syndrome",
   "metadata": {},
   "source": [
    "## Workflow"
   ]
  },
  {
   "cell_type": "code",
   "execution_count": null,
   "id": "technological-attitude",
   "metadata": {},
   "outputs": [],
   "source": [
    "# Create variables (dummy variables)\n",
    "\n",
    "# X = df.drop(columns=['country', 'continent', 'gdp_per_cap'])\n",
    "# Y = df.gdp_per_cap\n",
    "\n",
    "# df_dummy = df.drop(columns=['country'])\n",
    "# df_dummy = pd.get_dummies(df_dummy)\n",
    "# X_dummy = df_dummy.drop(columns=['gdp_per_cap'])"
   ]
  },
  {
   "cell_type": "code",
   "execution_count": null,
   "id": "stunning-custom",
   "metadata": {},
   "outputs": [],
   "source": [
    "# Scale data (scaler, transform)\n",
    "\n",
    "# scaler_standard = StandardScaler()\n",
    "# scaler_standard.fit(X)\n",
    "# X = scaler_standard.transform(X)"
   ]
  },
  {
   "cell_type": "code",
   "execution_count": null,
   "id": "biblical-fifteen",
   "metadata": {},
   "outputs": [],
   "source": [
    "# Split data set\n",
    "\n",
    "# x_train, x_test, y_train, y_test = train_test_split(X, Y, test_size = 0.2, random_state = 42)"
   ]
  },
  {
   "cell_type": "code",
   "execution_count": 412,
   "id": "normal-cattle",
   "metadata": {},
   "outputs": [],
   "source": [
    "# Initiate model\n",
    "\n",
    "# model = LinearRegression()"
   ]
  },
  {
   "cell_type": "code",
   "execution_count": 413,
   "id": "terminal-degree",
   "metadata": {},
   "outputs": [],
   "source": [
    "# Fit model\n",
    "\n",
    "# results = model.fit(x_train, y_train)"
   ]
  },
  {
   "cell_type": "code",
   "execution_count": null,
   "id": "dated-scenario",
   "metadata": {},
   "outputs": [],
   "source": [
    "# Predict values\n",
    "\n",
    "# y_predict = model.predict(x_test)"
   ]
  },
  {
   "cell_type": "code",
   "execution_count": null,
   "id": "noted-editing",
   "metadata": {},
   "outputs": [],
   "source": [
    "# Calculate R2\n",
    "# score_scaler = r2_score(y_test,y_predict)\n",
    "# score_scaler"
   ]
  },
  {
   "cell_type": "markdown",
   "id": "intelligent-commodity",
   "metadata": {},
   "source": [
    "## Import data"
   ]
  },
  {
   "cell_type": "code",
   "execution_count": 327,
   "id": "fiscal-seating",
   "metadata": {},
   "outputs": [],
   "source": [
    "df = gapminder"
   ]
  },
  {
   "cell_type": "code",
   "execution_count": 328,
   "id": "vocational-chassis",
   "metadata": {},
   "outputs": [],
   "source": [
    "df = df.rename(columns={'lifeExp':'life_exp', 'pop':'population', 'gdpPercap':'gdp_per_cap'})"
   ]
  },
  {
   "cell_type": "code",
   "execution_count": 329,
   "id": "special-intelligence",
   "metadata": {
    "scrolled": true
   },
   "outputs": [
    {
     "data": {
      "text/html": [
       "<div>\n",
       "<style scoped>\n",
       "    .dataframe tbody tr th:only-of-type {\n",
       "        vertical-align: middle;\n",
       "    }\n",
       "\n",
       "    .dataframe tbody tr th {\n",
       "        vertical-align: top;\n",
       "    }\n",
       "\n",
       "    .dataframe thead th {\n",
       "        text-align: right;\n",
       "    }\n",
       "</style>\n",
       "<table border=\"1\" class=\"dataframe\">\n",
       "  <thead>\n",
       "    <tr style=\"text-align: right;\">\n",
       "      <th></th>\n",
       "      <th>country</th>\n",
       "      <th>continent</th>\n",
       "      <th>year</th>\n",
       "      <th>life_exp</th>\n",
       "      <th>population</th>\n",
       "      <th>gdp_per_cap</th>\n",
       "    </tr>\n",
       "  </thead>\n",
       "  <tbody>\n",
       "    <tr>\n",
       "      <th>0</th>\n",
       "      <td>Afghanistan</td>\n",
       "      <td>Asia</td>\n",
       "      <td>1952</td>\n",
       "      <td>28.801</td>\n",
       "      <td>8425333</td>\n",
       "      <td>779.445314</td>\n",
       "    </tr>\n",
       "    <tr>\n",
       "      <th>1</th>\n",
       "      <td>Afghanistan</td>\n",
       "      <td>Asia</td>\n",
       "      <td>1957</td>\n",
       "      <td>30.332</td>\n",
       "      <td>9240934</td>\n",
       "      <td>820.853030</td>\n",
       "    </tr>\n",
       "    <tr>\n",
       "      <th>2</th>\n",
       "      <td>Afghanistan</td>\n",
       "      <td>Asia</td>\n",
       "      <td>1962</td>\n",
       "      <td>31.997</td>\n",
       "      <td>10267083</td>\n",
       "      <td>853.100710</td>\n",
       "    </tr>\n",
       "    <tr>\n",
       "      <th>3</th>\n",
       "      <td>Afghanistan</td>\n",
       "      <td>Asia</td>\n",
       "      <td>1967</td>\n",
       "      <td>34.020</td>\n",
       "      <td>11537966</td>\n",
       "      <td>836.197138</td>\n",
       "    </tr>\n",
       "    <tr>\n",
       "      <th>4</th>\n",
       "      <td>Afghanistan</td>\n",
       "      <td>Asia</td>\n",
       "      <td>1972</td>\n",
       "      <td>36.088</td>\n",
       "      <td>13079460</td>\n",
       "      <td>739.981106</td>\n",
       "    </tr>\n",
       "  </tbody>\n",
       "</table>\n",
       "</div>"
      ],
      "text/plain": [
       "       country continent  year  life_exp  population  gdp_per_cap\n",
       "0  Afghanistan      Asia  1952    28.801     8425333   779.445314\n",
       "1  Afghanistan      Asia  1957    30.332     9240934   820.853030\n",
       "2  Afghanistan      Asia  1962    31.997    10267083   853.100710\n",
       "3  Afghanistan      Asia  1967    34.020    11537966   836.197138\n",
       "4  Afghanistan      Asia  1972    36.088    13079460   739.981106"
      ]
     },
     "execution_count": 329,
     "metadata": {},
     "output_type": "execute_result"
    }
   ],
   "source": [
    "df.head()"
   ]
  },
  {
   "cell_type": "code",
   "execution_count": 330,
   "id": "nasty-chicken",
   "metadata": {},
   "outputs": [
    {
     "data": {
      "text/html": [
       "<div>\n",
       "<style scoped>\n",
       "    .dataframe tbody tr th:only-of-type {\n",
       "        vertical-align: middle;\n",
       "    }\n",
       "\n",
       "    .dataframe tbody tr th {\n",
       "        vertical-align: top;\n",
       "    }\n",
       "\n",
       "    .dataframe thead th {\n",
       "        text-align: right;\n",
       "    }\n",
       "</style>\n",
       "<table border=\"1\" class=\"dataframe\">\n",
       "  <thead>\n",
       "    <tr style=\"text-align: right;\">\n",
       "      <th></th>\n",
       "      <th>year</th>\n",
       "      <th>life_exp</th>\n",
       "      <th>population</th>\n",
       "      <th>gdp_per_cap</th>\n",
       "    </tr>\n",
       "  </thead>\n",
       "  <tbody>\n",
       "    <tr>\n",
       "      <th>year</th>\n",
       "      <td>1.000000</td>\n",
       "      <td>0.435611</td>\n",
       "      <td>0.082308</td>\n",
       "      <td>0.227318</td>\n",
       "    </tr>\n",
       "    <tr>\n",
       "      <th>life_exp</th>\n",
       "      <td>0.435611</td>\n",
       "      <td>1.000000</td>\n",
       "      <td>0.064955</td>\n",
       "      <td>0.583706</td>\n",
       "    </tr>\n",
       "    <tr>\n",
       "      <th>population</th>\n",
       "      <td>0.082308</td>\n",
       "      <td>0.064955</td>\n",
       "      <td>1.000000</td>\n",
       "      <td>-0.025600</td>\n",
       "    </tr>\n",
       "    <tr>\n",
       "      <th>gdp_per_cap</th>\n",
       "      <td>0.227318</td>\n",
       "      <td>0.583706</td>\n",
       "      <td>-0.025600</td>\n",
       "      <td>1.000000</td>\n",
       "    </tr>\n",
       "  </tbody>\n",
       "</table>\n",
       "</div>"
      ],
      "text/plain": [
       "                 year  life_exp  population  gdp_per_cap\n",
       "year         1.000000  0.435611    0.082308     0.227318\n",
       "life_exp     0.435611  1.000000    0.064955     0.583706\n",
       "population   0.082308  0.064955    1.000000    -0.025600\n",
       "gdp_per_cap  0.227318  0.583706   -0.025600     1.000000"
      ]
     },
     "execution_count": 330,
     "metadata": {},
     "output_type": "execute_result"
    }
   ],
   "source": [
    "df.corr()"
   ]
  },
  {
   "cell_type": "markdown",
   "id": "understanding-lucas",
   "metadata": {},
   "source": [
    "## Implement linear regression model"
   ]
  },
  {
   "cell_type": "markdown",
   "id": "generous-float",
   "metadata": {},
   "source": [
    "### Create variables"
   ]
  },
  {
   "cell_type": "code",
   "execution_count": 331,
   "id": "assured-glossary",
   "metadata": {},
   "outputs": [],
   "source": [
    "X = df.drop(columns=['country', 'continent', 'gdp_per_cap'])"
   ]
  },
  {
   "cell_type": "code",
   "execution_count": 332,
   "id": "formal-disorder",
   "metadata": {},
   "outputs": [],
   "source": [
    "Y = df.gdp_per_cap"
   ]
  },
  {
   "cell_type": "markdown",
   "id": "naughty-admission",
   "metadata": {},
   "source": [
    "### statsmodels"
   ]
  },
  {
   "cell_type": "code",
   "execution_count": 333,
   "id": "hawaiian-socket",
   "metadata": {},
   "outputs": [],
   "source": [
    "X = sm.add_constant(X)"
   ]
  },
  {
   "cell_type": "code",
   "execution_count": 334,
   "id": "automatic-importance",
   "metadata": {},
   "outputs": [],
   "source": [
    "model_constant = sm.OLS(Y,X)"
   ]
  },
  {
   "cell_type": "code",
   "execution_count": 335,
   "id": "exotic-implement",
   "metadata": {},
   "outputs": [],
   "source": [
    "results_constant = model_constant.fit()"
   ]
  },
  {
   "cell_type": "code",
   "execution_count": 336,
   "id": "logical-learning",
   "metadata": {
    "collapsed": true
   },
   "outputs": [
    {
     "data": {
      "text/html": [
       "<table class=\"simpletable\">\n",
       "<caption>OLS Regression Results</caption>\n",
       "<tr>\n",
       "  <th>Dep. Variable:</th>       <td>gdp_per_cap</td>   <th>  R-squared:         </th> <td>   0.345</td> \n",
       "</tr>\n",
       "<tr>\n",
       "  <th>Model:</th>                   <td>OLS</td>       <th>  Adj. R-squared:    </th> <td>   0.344</td> \n",
       "</tr>\n",
       "<tr>\n",
       "  <th>Method:</th>             <td>Least Squares</td>  <th>  F-statistic:       </th> <td>   299.1</td> \n",
       "</tr>\n",
       "<tr>\n",
       "  <th>Date:</th>             <td>Thu, 21 Jul 2022</td> <th>  Prob (F-statistic):</th> <td>6.91e-156</td>\n",
       "</tr>\n",
       "<tr>\n",
       "  <th>Time:</th>                 <td>10:46:31</td>     <th>  Log-Likelihood:    </th> <td> -17726.</td> \n",
       "</tr>\n",
       "<tr>\n",
       "  <th>No. Observations:</th>      <td>  1704</td>      <th>  AIC:               </th> <td>3.546e+04</td>\n",
       "</tr>\n",
       "<tr>\n",
       "  <th>Df Residuals:</th>          <td>  1700</td>      <th>  BIC:               </th> <td>3.548e+04</td>\n",
       "</tr>\n",
       "<tr>\n",
       "  <th>Df Model:</th>              <td>     3</td>      <th>                     </th>     <td> </td>    \n",
       "</tr>\n",
       "<tr>\n",
       "  <th>Covariance Type:</th>      <td>nonrobust</td>    <th>                     </th>     <td> </td>    \n",
       "</tr>\n",
       "</table>\n",
       "<table class=\"simpletable\">\n",
       "<tr>\n",
       "       <td></td>         <th>coef</th>     <th>std err</th>      <th>t</th>      <th>P>|t|</th>  <th>[0.025</th>    <th>0.975]</th>  \n",
       "</tr>\n",
       "<tr>\n",
       "  <th>const</th>      <td> 1.304e+04</td> <td> 2.43e+04</td> <td>    0.537</td> <td> 0.591</td> <td>-3.46e+04</td> <td> 6.06e+04</td>\n",
       "</tr>\n",
       "<tr>\n",
       "  <th>year</th>       <td>  -16.6235</td> <td>   12.469</td> <td>   -1.333</td> <td> 0.183</td> <td>  -41.079</td> <td>    7.832</td>\n",
       "</tr>\n",
       "<tr>\n",
       "  <th>life_exp</th>   <td>  458.2072</td> <td>   16.644</td> <td>   27.529</td> <td> 0.000</td> <td>  425.562</td> <td>  490.853</td>\n",
       "</tr>\n",
       "<tr>\n",
       "  <th>population</th> <td>-5.776e-06</td> <td> 1.83e-06</td> <td>   -3.158</td> <td> 0.002</td> <td>-9.36e-06</td> <td>-2.19e-06</td>\n",
       "</tr>\n",
       "</table>\n",
       "<table class=\"simpletable\">\n",
       "<tr>\n",
       "  <th>Omnibus:</th>       <td>1946.747</td> <th>  Durbin-Watson:     </th>  <td>   0.330</td> \n",
       "</tr>\n",
       "<tr>\n",
       "  <th>Prob(Omnibus):</th>  <td> 0.000</td>  <th>  Jarque-Bera (JB):  </th> <td>264041.825</td>\n",
       "</tr>\n",
       "<tr>\n",
       "  <th>Skew:</th>           <td> 5.623</td>  <th>  Prob(JB):          </th>  <td>    0.00</td> \n",
       "</tr>\n",
       "<tr>\n",
       "  <th>Kurtosis:</th>       <td>62.937</td>  <th>  Cond. No.          </th>  <td>1.38e+10</td> \n",
       "</tr>\n",
       "</table><br/><br/>Notes:<br/>[1] Standard Errors assume that the covariance matrix of the errors is correctly specified.<br/>[2] The condition number is large, 1.38e+10. This might indicate that there are<br/>strong multicollinearity or other numerical problems."
      ],
      "text/plain": [
       "<class 'statsmodels.iolib.summary.Summary'>\n",
       "\"\"\"\n",
       "                            OLS Regression Results                            \n",
       "==============================================================================\n",
       "Dep. Variable:            gdp_per_cap   R-squared:                       0.345\n",
       "Model:                            OLS   Adj. R-squared:                  0.344\n",
       "Method:                 Least Squares   F-statistic:                     299.1\n",
       "Date:                Thu, 21 Jul 2022   Prob (F-statistic):          6.91e-156\n",
       "Time:                        10:46:31   Log-Likelihood:                -17726.\n",
       "No. Observations:                1704   AIC:                         3.546e+04\n",
       "Df Residuals:                    1700   BIC:                         3.548e+04\n",
       "Df Model:                           3                                         \n",
       "Covariance Type:            nonrobust                                         \n",
       "==============================================================================\n",
       "                 coef    std err          t      P>|t|      [0.025      0.975]\n",
       "------------------------------------------------------------------------------\n",
       "const       1.304e+04   2.43e+04      0.537      0.591   -3.46e+04    6.06e+04\n",
       "year         -16.6235     12.469     -1.333      0.183     -41.079       7.832\n",
       "life_exp     458.2072     16.644     27.529      0.000     425.562     490.853\n",
       "population -5.776e-06   1.83e-06     -3.158      0.002   -9.36e-06   -2.19e-06\n",
       "==============================================================================\n",
       "Omnibus:                     1946.747   Durbin-Watson:                   0.330\n",
       "Prob(Omnibus):                  0.000   Jarque-Bera (JB):           264041.825\n",
       "Skew:                           5.623   Prob(JB):                         0.00\n",
       "Kurtosis:                      62.937   Cond. No.                     1.38e+10\n",
       "==============================================================================\n",
       "\n",
       "Notes:\n",
       "[1] Standard Errors assume that the covariance matrix of the errors is correctly specified.\n",
       "[2] The condition number is large, 1.38e+10. This might indicate that there are\n",
       "strong multicollinearity or other numerical problems.\n",
       "\"\"\""
      ]
     },
     "execution_count": 336,
     "metadata": {},
     "output_type": "execute_result"
    }
   ],
   "source": [
    "results_constant.summary()"
   ]
  },
  {
   "cell_type": "markdown",
   "id": "extensive-messenger",
   "metadata": {},
   "source": [
    "### sklearn"
   ]
  },
  {
   "cell_type": "code",
   "execution_count": 337,
   "id": "composed-pacific",
   "metadata": {},
   "outputs": [],
   "source": [
    "model = LinearRegression()"
   ]
  },
  {
   "cell_type": "code",
   "execution_count": 338,
   "id": "brown-attachment",
   "metadata": {},
   "outputs": [],
   "source": [
    "results = model.fit(X, Y)"
   ]
  },
  {
   "cell_type": "code",
   "execution_count": 339,
   "id": "public-adelaide",
   "metadata": {},
   "outputs": [
    {
     "data": {
      "text/plain": [
       "array([ 0.00000000e+00, -1.66235076e+01,  4.58207190e+02, -5.77607025e-06])"
      ]
     },
     "execution_count": 339,
     "metadata": {},
     "output_type": "execute_result"
    }
   ],
   "source": [
    "results.coef_"
   ]
  },
  {
   "cell_type": "code",
   "execution_count": 340,
   "id": "toxic-native",
   "metadata": {},
   "outputs": [
    {
     "data": {
      "text/plain": [
       "13040.923403524965"
      ]
     },
     "execution_count": 340,
     "metadata": {},
     "output_type": "execute_result"
    }
   ],
   "source": [
    "results.intercept_"
   ]
  },
  {
   "cell_type": "code",
   "execution_count": 341,
   "id": "french-maximum",
   "metadata": {
    "scrolled": true
   },
   "outputs": [
    {
     "data": {
      "text/plain": [
       "{'copy_X': True,\n",
       " 'fit_intercept': True,\n",
       " 'n_jobs': None,\n",
       " 'normalize': False,\n",
       " 'positive': False}"
      ]
     },
     "execution_count": 341,
     "metadata": {},
     "output_type": "execute_result"
    }
   ],
   "source": [
    "results.get_params()"
   ]
  },
  {
   "cell_type": "markdown",
   "id": "quality-beverage",
   "metadata": {},
   "source": [
    "### Dummy variables for continent"
   ]
  },
  {
   "cell_type": "code",
   "execution_count": 342,
   "id": "friendly-keeping",
   "metadata": {},
   "outputs": [],
   "source": [
    "df_dummy = df.drop(columns=['country'])"
   ]
  },
  {
   "cell_type": "code",
   "execution_count": 343,
   "id": "cordless-absence",
   "metadata": {},
   "outputs": [],
   "source": [
    "df_dummy = pd.get_dummies(df_dummy)"
   ]
  },
  {
   "cell_type": "code",
   "execution_count": 344,
   "id": "documented-bleeding",
   "metadata": {},
   "outputs": [],
   "source": [
    "X_dummy = df_dummy.drop(columns=['gdp_per_cap'])"
   ]
  },
  {
   "cell_type": "code",
   "execution_count": 345,
   "id": "heavy-party",
   "metadata": {},
   "outputs": [],
   "source": [
    "Y_dummy = df_dummy.gdp_per_cap"
   ]
  },
  {
   "cell_type": "code",
   "execution_count": 346,
   "id": "hungarian-idaho",
   "metadata": {},
   "outputs": [],
   "source": [
    "X_dummy = sm.add_constant(X_dummy)"
   ]
  },
  {
   "cell_type": "code",
   "execution_count": 347,
   "id": "embedded-durham",
   "metadata": {},
   "outputs": [],
   "source": [
    "model_dummy_continent = sm.OLS(Y_dummy,X_dummy)"
   ]
  },
  {
   "cell_type": "code",
   "execution_count": 348,
   "id": "healthy-gender",
   "metadata": {},
   "outputs": [],
   "source": [
    "results_dummy_continent = model_dummy_continent.fit()"
   ]
  },
  {
   "cell_type": "code",
   "execution_count": 349,
   "id": "oriental-yacht",
   "metadata": {
    "collapsed": true
   },
   "outputs": [
    {
     "data": {
      "text/html": [
       "<table class=\"simpletable\">\n",
       "<caption>OLS Regression Results</caption>\n",
       "<tr>\n",
       "  <th>Dep. Variable:</th>       <td>gdp_per_cap</td>   <th>  R-squared:         </th> <td>   0.369</td> \n",
       "</tr>\n",
       "<tr>\n",
       "  <th>Model:</th>                   <td>OLS</td>       <th>  Adj. R-squared:    </th> <td>   0.366</td> \n",
       "</tr>\n",
       "<tr>\n",
       "  <th>Method:</th>             <td>Least Squares</td>  <th>  F-statistic:       </th> <td>   141.4</td> \n",
       "</tr>\n",
       "<tr>\n",
       "  <th>Date:</th>             <td>Thu, 21 Jul 2022</td> <th>  Prob (F-statistic):</th> <td>2.66e-164</td>\n",
       "</tr>\n",
       "<tr>\n",
       "  <th>Time:</th>                 <td>10:46:32</td>     <th>  Log-Likelihood:    </th> <td> -17696.</td> \n",
       "</tr>\n",
       "<tr>\n",
       "  <th>No. Observations:</th>      <td>  1704</td>      <th>  AIC:               </th> <td>3.541e+04</td>\n",
       "</tr>\n",
       "<tr>\n",
       "  <th>Df Residuals:</th>          <td>  1696</td>      <th>  BIC:               </th> <td>3.545e+04</td>\n",
       "</tr>\n",
       "<tr>\n",
       "  <th>Df Model:</th>              <td>     7</td>      <th>                     </th>     <td> </td>    \n",
       "</tr>\n",
       "<tr>\n",
       "  <th>Covariance Type:</th>      <td>nonrobust</td>    <th>                     </th>     <td> </td>    \n",
       "</tr>\n",
       "</table>\n",
       "<table class=\"simpletable\">\n",
       "<tr>\n",
       "           <td></td>             <th>coef</th>     <th>std err</th>      <th>t</th>      <th>P>|t|</th>  <th>[0.025</th>    <th>0.975]</th>  \n",
       "</tr>\n",
       "<tr>\n",
       "  <th>const</th>              <td>-2.292e+04</td> <td> 2.22e+04</td> <td>   -1.034</td> <td> 0.301</td> <td>-6.64e+04</td> <td> 2.06e+04</td>\n",
       "</tr>\n",
       "<tr>\n",
       "  <th>year</th>               <td>    6.5271</td> <td>   13.939</td> <td>    0.468</td> <td> 0.640</td> <td>  -20.812</td> <td>   33.866</td>\n",
       "</tr>\n",
       "<tr>\n",
       "  <th>life_exp</th>           <td>  388.1655</td> <td>   26.037</td> <td>   14.908</td> <td> 0.000</td> <td>  337.097</td> <td>  439.234</td>\n",
       "</tr>\n",
       "<tr>\n",
       "  <th>population</th>         <td>-6.416e-06</td> <td> 1.86e-06</td> <td>   -3.454</td> <td> 0.001</td> <td>-1.01e-05</td> <td>-2.77e-06</td>\n",
       "</tr>\n",
       "<tr>\n",
       "  <th>continent_Africa</th>   <td>-6707.6449</td> <td> 4688.123</td> <td>   -1.431</td> <td> 0.153</td> <td>-1.59e+04</td> <td> 2487.469</td>\n",
       "</tr>\n",
       "<tr>\n",
       "  <th>continent_Americas</th> <td>-7802.1451</td> <td> 4450.063</td> <td>   -1.753</td> <td> 0.080</td> <td>-1.65e+04</td> <td>  926.046</td>\n",
       "</tr>\n",
       "<tr>\n",
       "  <th>continent_Asia</th>     <td>-4915.8884</td> <td> 4509.084</td> <td>   -1.090</td> <td> 0.276</td> <td>-1.38e+04</td> <td> 3928.066</td>\n",
       "</tr>\n",
       "<tr>\n",
       "  <th>continent_Europe</th>   <td>-3328.0795</td> <td> 4345.070</td> <td>   -0.766</td> <td> 0.444</td> <td>-1.19e+04</td> <td> 5194.183</td>\n",
       "</tr>\n",
       "<tr>\n",
       "  <th>continent_Oceania</th>  <td> -169.5052</td> <td> 4494.343</td> <td>   -0.038</td> <td> 0.970</td> <td>-8984.547</td> <td> 8645.536</td>\n",
       "</tr>\n",
       "</table>\n",
       "<table class=\"simpletable\">\n",
       "<tr>\n",
       "  <th>Omnibus:</th>       <td>1996.307</td> <th>  Durbin-Watson:     </th>  <td>   0.332</td> \n",
       "</tr>\n",
       "<tr>\n",
       "  <th>Prob(Omnibus):</th>  <td> 0.000</td>  <th>  Jarque-Bera (JB):  </th> <td>299082.688</td>\n",
       "</tr>\n",
       "<tr>\n",
       "  <th>Skew:</th>           <td> 5.848</td>  <th>  Prob(JB):          </th>  <td>    0.00</td> \n",
       "</tr>\n",
       "<tr>\n",
       "  <th>Kurtosis:</th>       <td>66.841</td>  <th>  Cond. No.          </th>  <td>5.55e+23</td> \n",
       "</tr>\n",
       "</table><br/><br/>Notes:<br/>[1] Standard Errors assume that the covariance matrix of the errors is correctly specified.<br/>[2] The smallest eigenvalue is 6.72e-29. This might indicate that there are<br/>strong multicollinearity problems or that the design matrix is singular."
      ],
      "text/plain": [
       "<class 'statsmodels.iolib.summary.Summary'>\n",
       "\"\"\"\n",
       "                            OLS Regression Results                            \n",
       "==============================================================================\n",
       "Dep. Variable:            gdp_per_cap   R-squared:                       0.369\n",
       "Model:                            OLS   Adj. R-squared:                  0.366\n",
       "Method:                 Least Squares   F-statistic:                     141.4\n",
       "Date:                Thu, 21 Jul 2022   Prob (F-statistic):          2.66e-164\n",
       "Time:                        10:46:32   Log-Likelihood:                -17696.\n",
       "No. Observations:                1704   AIC:                         3.541e+04\n",
       "Df Residuals:                    1696   BIC:                         3.545e+04\n",
       "Df Model:                           7                                         \n",
       "Covariance Type:            nonrobust                                         \n",
       "======================================================================================\n",
       "                         coef    std err          t      P>|t|      [0.025      0.975]\n",
       "--------------------------------------------------------------------------------------\n",
       "const              -2.292e+04   2.22e+04     -1.034      0.301   -6.64e+04    2.06e+04\n",
       "year                   6.5271     13.939      0.468      0.640     -20.812      33.866\n",
       "life_exp             388.1655     26.037     14.908      0.000     337.097     439.234\n",
       "population         -6.416e-06   1.86e-06     -3.454      0.001   -1.01e-05   -2.77e-06\n",
       "continent_Africa   -6707.6449   4688.123     -1.431      0.153   -1.59e+04    2487.469\n",
       "continent_Americas -7802.1451   4450.063     -1.753      0.080   -1.65e+04     926.046\n",
       "continent_Asia     -4915.8884   4509.084     -1.090      0.276   -1.38e+04    3928.066\n",
       "continent_Europe   -3328.0795   4345.070     -0.766      0.444   -1.19e+04    5194.183\n",
       "continent_Oceania   -169.5052   4494.343     -0.038      0.970   -8984.547    8645.536\n",
       "==============================================================================\n",
       "Omnibus:                     1996.307   Durbin-Watson:                   0.332\n",
       "Prob(Omnibus):                  0.000   Jarque-Bera (JB):           299082.688\n",
       "Skew:                           5.848   Prob(JB):                         0.00\n",
       "Kurtosis:                      66.841   Cond. No.                     5.55e+23\n",
       "==============================================================================\n",
       "\n",
       "Notes:\n",
       "[1] Standard Errors assume that the covariance matrix of the errors is correctly specified.\n",
       "[2] The smallest eigenvalue is 6.72e-29. This might indicate that there are\n",
       "strong multicollinearity problems or that the design matrix is singular.\n",
       "\"\"\""
      ]
     },
     "execution_count": 349,
     "metadata": {},
     "output_type": "execute_result"
    }
   ],
   "source": [
    "results_dummy_continent.summary()"
   ]
  },
  {
   "cell_type": "markdown",
   "id": "quantitative-possible",
   "metadata": {},
   "source": [
    "## Machine learning"
   ]
  },
  {
   "cell_type": "code",
   "execution_count": 350,
   "id": "norwegian-inclusion",
   "metadata": {},
   "outputs": [],
   "source": [
    "# https://towardsdatascience.com/all-about-feature-scaling-bcc0ad75cb35"
   ]
  },
  {
   "cell_type": "code",
   "execution_count": 351,
   "id": "colored-evolution",
   "metadata": {},
   "outputs": [],
   "source": [
    "x = X\n",
    "y = Y"
   ]
  },
  {
   "cell_type": "code",
   "execution_count": 353,
   "id": "textile-quebec",
   "metadata": {},
   "outputs": [
    {
     "data": {
      "text/html": [
       "<div>\n",
       "<style scoped>\n",
       "    .dataframe tbody tr th:only-of-type {\n",
       "        vertical-align: middle;\n",
       "    }\n",
       "\n",
       "    .dataframe tbody tr th {\n",
       "        vertical-align: top;\n",
       "    }\n",
       "\n",
       "    .dataframe thead th {\n",
       "        text-align: right;\n",
       "    }\n",
       "</style>\n",
       "<table border=\"1\" class=\"dataframe\">\n",
       "  <thead>\n",
       "    <tr style=\"text-align: right;\">\n",
       "      <th></th>\n",
       "      <th>const</th>\n",
       "      <th>year</th>\n",
       "      <th>life_exp</th>\n",
       "      <th>population</th>\n",
       "    </tr>\n",
       "  </thead>\n",
       "  <tbody>\n",
       "    <tr>\n",
       "      <th>const</th>\n",
       "      <td>NaN</td>\n",
       "      <td>NaN</td>\n",
       "      <td>NaN</td>\n",
       "      <td>NaN</td>\n",
       "    </tr>\n",
       "    <tr>\n",
       "      <th>year</th>\n",
       "      <td>NaN</td>\n",
       "      <td>1.000000</td>\n",
       "      <td>0.435611</td>\n",
       "      <td>0.082308</td>\n",
       "    </tr>\n",
       "    <tr>\n",
       "      <th>life_exp</th>\n",
       "      <td>NaN</td>\n",
       "      <td>0.435611</td>\n",
       "      <td>1.000000</td>\n",
       "      <td>0.064955</td>\n",
       "    </tr>\n",
       "    <tr>\n",
       "      <th>population</th>\n",
       "      <td>NaN</td>\n",
       "      <td>0.082308</td>\n",
       "      <td>0.064955</td>\n",
       "      <td>1.000000</td>\n",
       "    </tr>\n",
       "  </tbody>\n",
       "</table>\n",
       "</div>"
      ],
      "text/plain": [
       "            const      year  life_exp  population\n",
       "const         NaN       NaN       NaN         NaN\n",
       "year          NaN  1.000000  0.435611    0.082308\n",
       "life_exp      NaN  0.435611  1.000000    0.064955\n",
       "population    NaN  0.082308  0.064955    1.000000"
      ]
     },
     "execution_count": 353,
     "metadata": {},
     "output_type": "execute_result"
    }
   ],
   "source": [
    "x.corr()\n",
    "# < 0.7 / no multicollinearity (VIF)"
   ]
  },
  {
   "cell_type": "code",
   "execution_count": 354,
   "id": "limited-gender",
   "metadata": {},
   "outputs": [],
   "source": [
    "# Split data set (years, random)"
   ]
  },
  {
   "cell_type": "code",
   "execution_count": 355,
   "id": "athletic-buyer",
   "metadata": {},
   "outputs": [],
   "source": [
    "x_train, x_test, y_train, y_test = train_test_split(x, y, test_size = 0.2, random_state = 42)"
   ]
  },
  {
   "cell_type": "code",
   "execution_count": 356,
   "id": "effective-river",
   "metadata": {},
   "outputs": [],
   "source": [
    "# OLS"
   ]
  },
  {
   "cell_type": "code",
   "execution_count": 357,
   "id": "varying-martin",
   "metadata": {},
   "outputs": [],
   "source": [
    "model_OLS = sm.OLS(y_train, x_train)"
   ]
  },
  {
   "cell_type": "code",
   "execution_count": 358,
   "id": "signed-farmer",
   "metadata": {},
   "outputs": [],
   "source": [
    "results_OLS = model_OLS.fit()"
   ]
  },
  {
   "cell_type": "code",
   "execution_count": 359,
   "id": "enclosed-rotation",
   "metadata": {},
   "outputs": [],
   "source": [
    "# Predict values\n",
    "y_predict = model.predict(x_test)"
   ]
  },
  {
   "cell_type": "code",
   "execution_count": 360,
   "id": "consolidated-berkeley",
   "metadata": {},
   "outputs": [
    {
     "data": {
      "text/plain": [
       "0.4863448445972305"
      ]
     },
     "execution_count": 360,
     "metadata": {},
     "output_type": "execute_result"
    }
   ],
   "source": [
    "# R2 score\n",
    "score = r2_score(y_test,y_predict)\n",
    "score"
   ]
  },
  {
   "cell_type": "code",
   "execution_count": 361,
   "id": "surprised-treasurer",
   "metadata": {},
   "outputs": [
    {
     "data": {
      "text/plain": [
       "5944.000649407297"
      ]
     },
     "execution_count": 361,
     "metadata": {},
     "output_type": "execute_result"
    }
   ],
   "source": [
    "# Mean squared error\n",
    "mean_squared_error(y_test,y_predict)\n",
    "np.sqrt(mean_squared_error(y_test,y_predict))"
   ]
  },
  {
   "cell_type": "code",
   "execution_count": 362,
   "id": "immune-pottery",
   "metadata": {},
   "outputs": [],
   "source": [
    "# Sklearn"
   ]
  },
  {
   "cell_type": "code",
   "execution_count": 363,
   "id": "coastal-engine",
   "metadata": {},
   "outputs": [],
   "source": [
    "model = LinearRegression()"
   ]
  },
  {
   "cell_type": "code",
   "execution_count": 364,
   "id": "bibliographic-breathing",
   "metadata": {},
   "outputs": [],
   "source": [
    "results = model.fit(x_train, y_train)"
   ]
  },
  {
   "cell_type": "code",
   "execution_count": 367,
   "id": "sunrise-lithuania",
   "metadata": {},
   "outputs": [],
   "source": [
    "# Predict values"
   ]
  },
  {
   "cell_type": "code",
   "execution_count": 368,
   "id": "surprising-result",
   "metadata": {},
   "outputs": [],
   "source": [
    "y_predict = model.predict(x_test)"
   ]
  },
  {
   "cell_type": "code",
   "execution_count": 369,
   "id": "radical-distribution",
   "metadata": {},
   "outputs": [],
   "source": [
    "# R2 score"
   ]
  },
  {
   "cell_type": "code",
   "execution_count": 370,
   "id": "suffering-republic",
   "metadata": {},
   "outputs": [
    {
     "data": {
      "text/plain": [
       "0.48300210491065754"
      ]
     },
     "execution_count": 370,
     "metadata": {},
     "output_type": "execute_result"
    }
   ],
   "source": [
    "score = r2_score(y_test,y_predict)\n",
    "score"
   ]
  },
  {
   "cell_type": "code",
   "execution_count": 371,
   "id": "occupied-apartment",
   "metadata": {},
   "outputs": [],
   "source": [
    "# Mean squared error"
   ]
  },
  {
   "cell_type": "code",
   "execution_count": 411,
   "id": "vertical-product",
   "metadata": {
    "scrolled": true
   },
   "outputs": [
    {
     "data": {
      "text/plain": [
       "5963.310321851847"
      ]
     },
     "execution_count": 411,
     "metadata": {},
     "output_type": "execute_result"
    }
   ],
   "source": [
    "mean_squared_error(y_test,y_predict)\n",
    "np.sqrt(mean_squared_error(y_test,y_predict))"
   ]
  },
  {
   "cell_type": "markdown",
   "id": "decreased-coupon",
   "metadata": {},
   "source": [
    "### Scaler"
   ]
  },
  {
   "cell_type": "code",
   "execution_count": 386,
   "id": "distributed-architect",
   "metadata": {},
   "outputs": [],
   "source": [
    "# Normalization is used when we want to bound our values between two numbers, typically, between [0,1] or [-1,1]. \n",
    "# While Standardization transforms the data to have zero mean and a variance of 1, they make our data unitless. "
   ]
  },
  {
   "cell_type": "code",
   "execution_count": 387,
   "id": "third-council",
   "metadata": {},
   "outputs": [],
   "source": [
    "# Scale data\n",
    "scaler_standard = StandardScaler()"
   ]
  },
  {
   "cell_type": "code",
   "execution_count": 388,
   "id": "magnetic-mouth",
   "metadata": {},
   "outputs": [
    {
     "data": {
      "text/plain": [
       "StandardScaler()"
      ]
     },
     "execution_count": 388,
     "metadata": {},
     "output_type": "execute_result"
    }
   ],
   "source": [
    "scaler_standard.fit(X)"
   ]
  },
  {
   "cell_type": "code",
   "execution_count": 389,
   "id": "institutional-suspension",
   "metadata": {},
   "outputs": [],
   "source": [
    "X_train_scaled = scaler_standard.transform(X)"
   ]
  },
  {
   "cell_type": "code",
   "execution_count": 390,
   "id": "sustained-equivalent",
   "metadata": {},
   "outputs": [],
   "source": [
    "x_train, x_test, y_train, y_test = train_test_split(X_train_scaled, Y, test_size = 0.2, random_state = 42)"
   ]
  },
  {
   "cell_type": "code",
   "execution_count": 391,
   "id": "charming-thong",
   "metadata": {},
   "outputs": [],
   "source": [
    "model_scaler = LinearRegression()"
   ]
  },
  {
   "cell_type": "code",
   "execution_count": 392,
   "id": "experienced-renewal",
   "metadata": {},
   "outputs": [],
   "source": [
    "results_scaler = model_scaler.fit(x_train, y_train)"
   ]
  },
  {
   "cell_type": "code",
   "execution_count": 393,
   "id": "improving-replacement",
   "metadata": {},
   "outputs": [],
   "source": [
    "y_predict_scaler = model_scaler.predict(x_test)"
   ]
  },
  {
   "cell_type": "code",
   "execution_count": 394,
   "id": "artificial-adelaide",
   "metadata": {},
   "outputs": [
    {
     "data": {
      "text/plain": [
       "0.48300210490971884"
      ]
     },
     "execution_count": 394,
     "metadata": {},
     "output_type": "execute_result"
    }
   ],
   "source": [
    "score_scaler = r2_score(y_test,y_predict_scaler)\n",
    "score_scaler"
   ]
  },
  {
   "cell_type": "markdown",
   "id": "inside-measure",
   "metadata": {},
   "source": [
    "### Test heteroscedacity "
   ]
  },
  {
   "cell_type": "code",
   "execution_count": 406,
   "id": "virtual-motorcycle",
   "metadata": {},
   "outputs": [],
   "source": [
    "y = y_predict - y_test"
   ]
  },
  {
   "cell_type": "code",
   "execution_count": 379,
   "id": "guided-speaking",
   "metadata": {},
   "outputs": [],
   "source": [
    "y = y.tolist()"
   ]
  },
  {
   "cell_type": "code",
   "execution_count": 380,
   "id": "twenty-pride",
   "metadata": {},
   "outputs": [],
   "source": [
    "y_mean = sum(y)/len(y)\n",
    "y_std = statistics.stdev(y)"
   ]
  },
  {
   "cell_type": "code",
   "execution_count": 381,
   "id": "loaded-northeast",
   "metadata": {},
   "outputs": [],
   "source": [
    "y_predict_mean = sum(y_predict)/len(y_predict)\n",
    "y_predict_std = statistics.stdev(y_predict)"
   ]
  },
  {
   "cell_type": "code",
   "execution_count": 382,
   "id": "photographic-headquarters",
   "metadata": {},
   "outputs": [],
   "source": [
    "y_predict = y_predict.tolist() "
   ]
  },
  {
   "cell_type": "code",
   "execution_count": 383,
   "id": "verified-ideal",
   "metadata": {},
   "outputs": [],
   "source": [
    "residuals = pd.DataFrame(y, y_predict, columns=['residuals']).reset_index().rename(columns={'index':'predict'})"
   ]
  },
  {
   "cell_type": "code",
   "execution_count": 384,
   "id": "becoming-marketing",
   "metadata": {
    "scrolled": true
   },
   "outputs": [
    {
     "data": {
      "text/html": [
       "<div>\n",
       "<style scoped>\n",
       "    .dataframe tbody tr th:only-of-type {\n",
       "        vertical-align: middle;\n",
       "    }\n",
       "\n",
       "    .dataframe tbody tr th {\n",
       "        vertical-align: top;\n",
       "    }\n",
       "\n",
       "    .dataframe thead th {\n",
       "        text-align: right;\n",
       "    }\n",
       "</style>\n",
       "<table border=\"1\" class=\"dataframe\">\n",
       "  <thead>\n",
       "    <tr style=\"text-align: right;\">\n",
       "      <th></th>\n",
       "      <th>predict</th>\n",
       "      <th>residuals</th>\n",
       "      <th>predict_stand</th>\n",
       "      <th>residuals_stand</th>\n",
       "    </tr>\n",
       "  </thead>\n",
       "  <tbody>\n",
       "    <tr>\n",
       "      <th>0</th>\n",
       "      <td>1187.221230</td>\n",
       "      <td>799.221230</td>\n",
       "      <td>-1.142090</td>\n",
       "      <td>0.057927</td>\n",
       "    </tr>\n",
       "    <tr>\n",
       "      <th>1</th>\n",
       "      <td>12301.334488</td>\n",
       "      <td>6702.256616</td>\n",
       "      <td>0.879517</td>\n",
       "      <td>1.131662</td>\n",
       "    </tr>\n",
       "    <tr>\n",
       "      <th>2</th>\n",
       "      <td>12397.542791</td>\n",
       "      <td>5747.347218</td>\n",
       "      <td>0.897016</td>\n",
       "      <td>0.957969</td>\n",
       "    </tr>\n",
       "    <tr>\n",
       "      <th>3</th>\n",
       "      <td>5052.257711</td>\n",
       "      <td>2895.301642</td>\n",
       "      <td>-0.439058</td>\n",
       "      <td>0.439195</td>\n",
       "    </tr>\n",
       "    <tr>\n",
       "      <th>4</th>\n",
       "      <td>10654.877006</td>\n",
       "      <td>7672.775148</td>\n",
       "      <td>0.580033</td>\n",
       "      <td>1.308195</td>\n",
       "    </tr>\n",
       "    <tr>\n",
       "      <th>...</th>\n",
       "      <td>...</td>\n",
       "      <td>...</td>\n",
       "      <td>...</td>\n",
       "      <td>...</td>\n",
       "    </tr>\n",
       "    <tr>\n",
       "      <th>336</th>\n",
       "      <td>4636.198082</td>\n",
       "      <td>3444.990401</td>\n",
       "      <td>-0.514737</td>\n",
       "      <td>0.539180</td>\n",
       "    </tr>\n",
       "    <tr>\n",
       "      <th>337</th>\n",
       "      <td>1650.373856</td>\n",
       "      <td>956.261417</td>\n",
       "      <td>-1.057845</td>\n",
       "      <td>0.086492</td>\n",
       "    </tr>\n",
       "    <tr>\n",
       "      <th>338</th>\n",
       "      <td>4871.142034</td>\n",
       "      <td>2268.431865</td>\n",
       "      <td>-0.472002</td>\n",
       "      <td>0.325170</td>\n",
       "    </tr>\n",
       "    <tr>\n",
       "      <th>339</th>\n",
       "      <td>6154.899248</td>\n",
       "      <td>1275.391726</td>\n",
       "      <td>-0.238492</td>\n",
       "      <td>0.144540</td>\n",
       "    </tr>\n",
       "    <tr>\n",
       "      <th>340</th>\n",
       "      <td>11112.104033</td>\n",
       "      <td>6547.301623</td>\n",
       "      <td>0.663201</td>\n",
       "      <td>1.103477</td>\n",
       "    </tr>\n",
       "  </tbody>\n",
       "</table>\n",
       "<p>341 rows × 4 columns</p>\n",
       "</div>"
      ],
      "text/plain": [
       "          predict    residuals  predict_stand  residuals_stand\n",
       "0     1187.221230   799.221230      -1.142090         0.057927\n",
       "1    12301.334488  6702.256616       0.879517         1.131662\n",
       "2    12397.542791  5747.347218       0.897016         0.957969\n",
       "3     5052.257711  2895.301642      -0.439058         0.439195\n",
       "4    10654.877006  7672.775148       0.580033         1.308195\n",
       "..            ...          ...            ...              ...\n",
       "336   4636.198082  3444.990401      -0.514737         0.539180\n",
       "337   1650.373856   956.261417      -1.057845         0.086492\n",
       "338   4871.142034  2268.431865      -0.472002         0.325170\n",
       "339   6154.899248  1275.391726      -0.238492         0.144540\n",
       "340  11112.104033  6547.301623       0.663201         1.103477\n",
       "\n",
       "[341 rows x 4 columns]"
      ]
     },
     "execution_count": 384,
     "metadata": {},
     "output_type": "execute_result"
    }
   ],
   "source": [
    "residuals['predict_stand'] = (residuals.predict-y_predict_mean)/y_predict_std\n",
    "residuals['residuals_stand'] = (residuals.residuals-y_mean)/y_predict_std\n",
    "residuals"
   ]
  },
  {
   "cell_type": "code",
   "execution_count": null,
   "id": "qualified-trunk",
   "metadata": {},
   "outputs": [],
   "source": []
  },
  {
   "cell_type": "code",
   "execution_count": 374,
   "id": "threaded-factory",
   "metadata": {},
   "outputs": [],
   "source": [
    "# Visualize results"
   ]
  },
  {
   "cell_type": "code",
   "execution_count": 375,
   "id": "finite-massachusetts",
   "metadata": {},
   "outputs": [],
   "source": [
    "prediction = pd.DataFrame(y_predict, y_test, columns=['test']).reset_index()"
   ]
  },
  {
   "cell_type": "code",
   "execution_count": 376,
   "id": "unusual-ebony",
   "metadata": {
    "scrolled": true
   },
   "outputs": [],
   "source": [
    "prediction = prediction.rename(columns={'gdp_per_cap':'predict'})"
   ]
  },
  {
   "cell_type": "code",
   "execution_count": 410,
   "id": "informational-digit",
   "metadata": {
    "collapsed": true
   },
   "outputs": [
    {
     "data": {
      "application/vnd.plotly.v1+json": {
       "config": {
        "plotlyServerURL": "https://plot.ly"
       },
       "data": [
        {
         "hovertemplate": "test=%{x}<br>predict=%{y}<extra></extra>",
         "legendgroup": "",
         "marker": {
          "color": "#636efa",
          "symbol": "circle"
         },
         "mode": "markers",
         "name": "",
         "orientation": "v",
         "showlegend": false,
         "type": "scatter",
         "x": [
          1187.2212297713886,
          12301.334488200308,
          12397.54279089352,
          5052.257711306072,
          10654.877005779339,
          3178.842021165943,
          3195.540428167995,
          14165.385136487517,
          2559.247346640939,
          12453.908445405481,
          14581.602966596338,
          13500.170331877518,
          14513.896326261261,
          -649.1016485894397,
          11481.680969783458,
          15936.13878749791,
          2182.4758222361997,
          9369.99605677681,
          3678.374274982205,
          7668.1229898827805,
          13562.117380547063,
          12649.794926625395,
          12744.213205605702,
          9211.558172105128,
          4200.787231143113,
          12676.585302839683,
          13651.74398569887,
          2853.161387077711,
          8971.165144849612,
          10490.415957038056,
          11593.591842195057,
          -129.8557896201055,
          11576.702372298018,
          2617.997435190955,
          3437.8217793548974,
          -1014.7380227655485,
          5721.54962703924,
          486.8633004671501,
          924.2345953269978,
          10422.755537818142,
          2422.121311691222,
          16402.382532112468,
          12505.237167808407,
          6557.127524049436,
          12882.6411660523,
          13321.409328297515,
          -1260.982275402057,
          4016.2286270902514,
          -2510.257400483788,
          2663.073223739586,
          633.6008838613197,
          14592.566186738244,
          12924.44770902859,
          1729.536743989127,
          -3141.9125811330305,
          13913.865516858932,
          2764.810029075874,
          10141.862224230947,
          12141.94235099865,
          14985.854350584403,
          7769.072015195419,
          5570.237077179649,
          -2536.332086427421,
          12107.603121764017,
          9484.226007895799,
          14789.400760630257,
          1157.6334238308773,
          6727.263801198485,
          2577.2725535550635,
          15820.020386921855,
          9701.811750745697,
          6143.548308086232,
          14564.723152324053,
          2174.6881347453927,
          -1249.2149504534827,
          1747.5648431073969,
          6498.159609425624,
          13868.726258186183,
          4714.119648279564,
          10663.281218458445,
          15150.888405303687,
          8578.282981392436,
          7671.974887383378,
          6164.471740522207,
          11571.851607620125,
          8062.48203431052,
          6778.35909775113,
          12918.422493985578,
          12917.234263971395,
          5800.730037180918,
          8839.841848207532,
          11709.946049187627,
          8177.918963790544,
          13266.693497160657,
          15491.392913094123,
          1587.4421667822899,
          16.598749306929676,
          1894.6434022527137,
          12345.830450622196,
          13046.023989142146,
          4889.406246527575,
          74.89240808054456,
          585.751438790423,
          11801.146004654112,
          11015.965214448106,
          1366.0307082094296,
          11632.823873389774,
          12430.552771684028,
          -1959.6541216520236,
          13668.40939916141,
          12987.019830398685,
          8793.212473153035,
          12060.41188477144,
          2159.341264706167,
          1344.7044326203468,
          14145.115355457863,
          3490.883017205517,
          208.88479386987092,
          10822.248428923556,
          14291.734799778673,
          4377.3800071574515,
          15474.962416174607,
          14294.624172975671,
          -509.4337287205053,
          16107.110352558147,
          9745.041754816179,
          11369.926491267348,
          14107.379358378228,
          5522.062135669334,
          3586.491838759677,
          12526.968216405487,
          -1451.2477461989256,
          10225.072116083116,
          15892.064077548506,
          14685.032584590723,
          1209.1089128154745,
          13852.055367251973,
          435.1252461856602,
          5540.643877512641,
          12690.275086941607,
          6536.38602161466,
          12591.511424219,
          3586.966037619248,
          1347.6714628886984,
          2873.453130393864,
          -2430.3860159403703,
          2561.947541738511,
          14173.320451461073,
          12601.55241509486,
          9427.397290894933,
          2185.4519503648735,
          1922.9355177429643,
          15472.672408127566,
          7391.899572219427,
          -218.19869180084424,
          8983.0648090902,
          8888.121162626034,
          10775.59289134659,
          12579.778330626521,
          -2961.4060168274773,
          8642.610506616176,
          1955.8526947452228,
          8959.839811697002,
          936.3408179221478,
          3090.0757504632093,
          16580.141013910255,
          8133.038041765612,
          10282.378568692286,
          10347.207398627075,
          8348.079838045873,
          13743.027248807766,
          2705.7471815289064,
          13553.612156548345,
          14947.84117490261,
          5327.792706497508,
          4741.182219352453,
          940.5484316034417,
          6451.043941796597,
          12263.768012348673,
          -423.71836830291795,
          15303.680896402799,
          15316.59278691523,
          3859.328315994586,
          10997.707983426155,
          3869.4714266474475,
          981.153127702426,
          10981.585324165528,
          11627.372883462504,
          12419.135247002163,
          12080.486629183004,
          13276.405504733955,
          12594.932252557526,
          13257.667553268051,
          750.5610907521659,
          7107.113749991484,
          12733.698801313423,
          2856.002840776284,
          10455.189218507901,
          10090.552500378786,
          2659.800066786138,
          12717.314910879959,
          4203.95515023093,
          4260.84587665915,
          8207.012032515726,
          6107.949381283674,
          -3390.5416079749302,
          15101.3540561546,
          6983.355304786761,
          11242.64327019274,
          1100.3797010577691,
          8569.982629471255,
          6134.442158032543,
          14178.965403451271,
          15576.29789708887,
          8630.85264840287,
          8266.903628248547,
          -127.7727021214705,
          16331.339728376446,
          -3012.5671224031357,
          12898.75209676595,
          7142.703861712016,
          1749.2642896312573,
          6605.683213531302,
          466.98074189562976,
          4841.911822074537,
          12415.62707002626,
          10979.633167521888,
          9608.53521119039,
          11900.738264431482,
          14917.865727075712,
          13001.77119494012,
          4377.780505994306,
          8219.553162308763,
          14267.688542374173,
          11739.111588512951,
          4077.9264623383133,
          2614.84369043693,
          3738.8307175343107,
          332.9053287518873,
          -3792.926006359725,
          15765.624426502342,
          11132.01681127203,
          9342.25754750903,
          6582.970189211159,
          8008.731683205697,
          8641.266061942817,
          2824.0685979721165,
          6885.507054736845,
          7883.422903774768,
          12834.343669205224,
          -3351.653473219165,
          13654.818387265845,
          6581.967090476137,
          -1133.0247558862975,
          12274.89410848726,
          13984.59883042331,
          -2723.1686638382635,
          -1025.157559529678,
          4534.467577524145,
          5740.809085428547,
          -2182.251656835848,
          3874.9396285233997,
          16052.292191503711,
          12082.55577528832,
          -1549.5564895578682,
          11794.059446536667,
          13027.258493619958,
          12551.446771268314,
          15797.826714248034,
          11829.824954760126,
          13218.623999248377,
          3432.5679249252717,
          3071.6077068333107,
          3009.750422608704,
          5688.967293473994,
          2188.2932158528383,
          3845.4811823152704,
          14490.873572876488,
          10820.515223190618,
          4301.884692690412,
          3688.6921515296817,
          8659.500111207373,
          13846.379995103767,
          12092.965633519454,
          -1581.2721068366336,
          4618.922212703103,
          8759.099392109434,
          9060.554371359005,
          11655.926397371062,
          12484.335411988584,
          11874.182347901306,
          1506.296666618986,
          15643.78424487039,
          7952.314324576717,
          1655.5819841328193,
          2207.7725500487177,
          10851.702486706145,
          -958.4153736970329,
          -1788.1143207257774,
          2408.6580006133117,
          7751.430911950767,
          9220.775462468504,
          -1013.6976015101827,
          14136.475128925902,
          12669.612510042298,
          1590.7909140877164,
          2742.3389342104165,
          6006.924480432532,
          14472.264936488455,
          13333.897538442048,
          13914.145873775802,
          226.53265125489997,
          -2841.5774892960726,
          8651.430669104786,
          983.9779794052956,
          5018.263552455461,
          -2152.237759088417,
          12659.547972331136,
          -1605.3168148782788,
          9476.391298537124,
          -1669.259126144705,
          732.8510977995211,
          2831.137214987906,
          10547.49627925014,
          1321.6809587725475,
          2227.686143919873,
          8031.01775973415,
          12373.233504887463,
          3901.239043280799,
          709.3748081385456,
          3301.3714878008795,
          8911.260225248589,
          12994.452367554473,
          12243.715814107793,
          -46.779765096584015,
          13680.628349388693,
          4636.1980818047305,
          1650.3738563857296,
          4871.142034370601,
          6154.899248266454,
          11112.104032889894
         ],
         "xaxis": "x",
         "y": [
          388,
          5599.077872,
          6650.195573,
          2156.956069,
          2982.101858,
          699.5016441,
          844.8763504,
          20206.82098,
          530.0535319,
          9508.141454,
          5937.029526,
          22031.53274,
          22525.56308,
          1643.38711,
          5118.146939,
          27538.41188,
          794.3484384,
          4161.415959,
          1694.337469,
          1057.206311,
          11054.56175,
          10560.48553,
          4876.798614,
          2849.09478,
          1895.016984,
          7612.240438,
          21597.08362,
          1937.577675,
          1902.2521,
          4161.727834,
          4247.400261,
          1148.376626,
          1876.766827,
          2042.09524,
          952.386129,
          736.4153921,
          1647.511665,
          1612.404632,
          805.5724718,
          1348.775651,
          2452.210407,
          30687.75473,
          6302.623438,
          1005.245812,
          7429.455877,
          16046.03728,
          997.7661127,
          2144.115096,
          764.7259628,
          5487.104219,
          911.2989371,
          22705.09254,
          6351.237495,
          1452.725766,
          2669.529475,
          15937.21123,
          1704.063724,
          6856.856212,
          7408.905561,
          6340.646683,
          6660.118654,
          3503.729636,
          862.4421463,
          9371.842561,
          3560.233174,
          23311.34939,
          2586.886053,
          1044.770126,
          896.9663732,
          26997.93657,
          2046.154706,
          1202.201361,
          10611.46299,
          1746.769454,
          780.5423257,
          1544.228586,
          4834.804067,
          18334.19751,
          3876.76846,
          3810.419296,
          18051.52254,
          706.1573059,
          2277.742396,
          2480.380334,
          10535.62855,
          7225.069258,
          4910.416756,
          10159.58368,
          8393.741404,
          4016.239529,
          1339.076036,
          5186.050003,
          5745.160213,
          9692.385245,
          22514.2548,
          3457.415947,
          575.9870009,
          1643.485354,
          9082.351172,
          17909.48973,
          1222.359968,
          721.1860862,
          457.7191807,
          5249.802653,
          4319.804067,
          747.0835292,
          7346.547557,
          6017.190733,
          761.879376,
          16048.51424,
          9767.29753,
          3054.421209,
          8662.834898,
          915.9850592,
          881.5706467,
          20293.89746,
          1217.032994,
          927.8253427,
          5023.216647,
          25116.17581,
          2677.939642,
          30281.70459,
          18533.15761,
          884.7552507,
          27968.09817,
          4657.22102,
          5477.890018,
          18794.74567,
          847.0061135,
          1544.402995,
          5596.519826,
          2627.845685,
          4448.679912,
          33207.0844,
          22066.44214,
          944.4383152,
          12779.37964,
          631.6998778,
          9613.818607,
          5926.876967,
          1034.298904,
          12037.26758,
          617.7244065,
          3035.326002,
          2117.234893,
          496.1743428,
          2879.468067,
          16537.4835,
          10136.86713,
          3460.937025,
          879.5835855,
          559.603231,
          30246.13063,
          2702.620356,
          540.2893983,
          33693.17525,
          3774.571743,
          3674.735572,
          11348.54585,
          686.3736739,
          2755.046991,
          1085.796879,
          3536.540301,
          762.4317721,
          4957.037982,
          31163.20196,
          3682.831494,
          2899.842175,
          21198.26136,
          4551.14215,
          8527.844662,
          2348.009158,
          9875.604515,
          26298.63531,
          1993.398314,
          1481.150189,
          740.5063317,
          9576.037596,
          15181.0927,
          958.5668124,
          20509.64777,
          34077.04939,
          2538.269358,
          3530.690067,
          2108.944355,
          8358.761987,
          6361.517993,
          8842.59803,
          9714.960623,
          5351.568666,
          17428.74846,
          6920.223051,
          13175.678,
          1576.97375,
          4581.609385,
          14734.23275,
          797.9081006,
          8052.953021,
          2170.151724,
          2291.156835,
          16661.6256,
          7114.477971,
          2517.736547,
          6434.501797,
          4358.595393,
          576.2670245,
          26626.51503,
          6281.290855,
          4920.355951,
          1035.831411,
          1075.811558,
          2036.884944,
          9809.185636,
          24675.02446,
          6642.881371,
          4021.175739,
          468.7949699,
          36319.23501,
          734.7829124,
          8605.047831,
          34167.7626,
          1421.145193,
          21951.21176,
          2387.54806,
          3119.280896,
          10733.92631,
          6601.429915,
          7213.791267,
          12545.99066,
          21888.88903,
          9534.677467,
          3781.410618,
          3326.143191,
          14619.22272,
          1385.896769,
          665.6244126,
          1586.851781,
          950.735869,
          1981.951806,
          599.650276,
          36023.1054,
          7991.707066,
          2861.092386,
          1748.356961,
          6089.786934,
          6809.40669,
          718.3730947,
          347,
          2678.729839,
          6597.494398,
          1353.759762,
          18970.57086,
          11848.34392,
          421.6240257,
          11367.16112,
          11628.38895,
          426.0964081,
          874.6858643,
          2289.234136,
          5937.827283,
          416.3698064,
          518.7642681,
          33328.96507,
          9022.247417,
          835.5234025,
          4916.299889,
          19702.05581,
          24072.63213,
          28926.03234,
          5862.276629,
          32003.93224,
          5768.729717,
          406.8841148,
          349,
          3336.585802,
          1164.406809,
          4811.060429,
          17558.81555,
          4086.522128,
          4643.393534,
          1056.736457,
          1961.224635,
          8941.571858,
          3783.674243,
          915.5960025,
          527.2721818,
          3794.755195,
          7807.095818,
          16173.14586,
          5728.353514,
          5444.61962,
          912.6626085,
          20896.60924,
          3023.271928,
          1544.750112,
          807.1985855,
          2760.196931,
          1308.495577,
          344.1618859,
          1777.077318,
          944,
          3216.956347,
          954.2092363,
          10095.42172,
          9021.815894,
          672.774812,
          912.0631417,
          2769.451844,
          20422.9015,
          35767.43303,
          9911.878226,
          853.540919,
          820.2245876,
          1091.359778,
          2617.155967,
          1632.210764,
          582.8419714,
          9308.41871,
          1284.73318,
          2393.219781,
          2430.208311,
          630.2336265,
          1156.18186,
          2523.337977,
          659.8772322,
          1111.107907,
          1391.253792,
          5693.843879,
          1408.678565,
          505.7538077,
          580.3052092,
          3682.259903,
          8513.097016,
          8597.756202,
          803.0054535,
          12002.23908,
          1191.207681,
          694.1124398,
          2602.710169,
          4879.507522,
          4564.80241
         ],
         "yaxis": "y"
        }
       ],
       "layout": {
        "legend": {
         "tracegroupgap": 0
        },
        "margin": {
         "t": 60
        },
        "template": {
         "data": {
          "bar": [
           {
            "error_x": {
             "color": "#2a3f5f"
            },
            "error_y": {
             "color": "#2a3f5f"
            },
            "marker": {
             "line": {
              "color": "#E5ECF6",
              "width": 0.5
             },
             "pattern": {
              "fillmode": "overlay",
              "size": 10,
              "solidity": 0.2
             }
            },
            "type": "bar"
           }
          ],
          "barpolar": [
           {
            "marker": {
             "line": {
              "color": "#E5ECF6",
              "width": 0.5
             },
             "pattern": {
              "fillmode": "overlay",
              "size": 10,
              "solidity": 0.2
             }
            },
            "type": "barpolar"
           }
          ],
          "carpet": [
           {
            "aaxis": {
             "endlinecolor": "#2a3f5f",
             "gridcolor": "white",
             "linecolor": "white",
             "minorgridcolor": "white",
             "startlinecolor": "#2a3f5f"
            },
            "baxis": {
             "endlinecolor": "#2a3f5f",
             "gridcolor": "white",
             "linecolor": "white",
             "minorgridcolor": "white",
             "startlinecolor": "#2a3f5f"
            },
            "type": "carpet"
           }
          ],
          "choropleth": [
           {
            "colorbar": {
             "outlinewidth": 0,
             "ticks": ""
            },
            "type": "choropleth"
           }
          ],
          "contour": [
           {
            "colorbar": {
             "outlinewidth": 0,
             "ticks": ""
            },
            "colorscale": [
             [
              0,
              "#0d0887"
             ],
             [
              0.1111111111111111,
              "#46039f"
             ],
             [
              0.2222222222222222,
              "#7201a8"
             ],
             [
              0.3333333333333333,
              "#9c179e"
             ],
             [
              0.4444444444444444,
              "#bd3786"
             ],
             [
              0.5555555555555556,
              "#d8576b"
             ],
             [
              0.6666666666666666,
              "#ed7953"
             ],
             [
              0.7777777777777778,
              "#fb9f3a"
             ],
             [
              0.8888888888888888,
              "#fdca26"
             ],
             [
              1,
              "#f0f921"
             ]
            ],
            "type": "contour"
           }
          ],
          "contourcarpet": [
           {
            "colorbar": {
             "outlinewidth": 0,
             "ticks": ""
            },
            "type": "contourcarpet"
           }
          ],
          "heatmap": [
           {
            "colorbar": {
             "outlinewidth": 0,
             "ticks": ""
            },
            "colorscale": [
             [
              0,
              "#0d0887"
             ],
             [
              0.1111111111111111,
              "#46039f"
             ],
             [
              0.2222222222222222,
              "#7201a8"
             ],
             [
              0.3333333333333333,
              "#9c179e"
             ],
             [
              0.4444444444444444,
              "#bd3786"
             ],
             [
              0.5555555555555556,
              "#d8576b"
             ],
             [
              0.6666666666666666,
              "#ed7953"
             ],
             [
              0.7777777777777778,
              "#fb9f3a"
             ],
             [
              0.8888888888888888,
              "#fdca26"
             ],
             [
              1,
              "#f0f921"
             ]
            ],
            "type": "heatmap"
           }
          ],
          "heatmapgl": [
           {
            "colorbar": {
             "outlinewidth": 0,
             "ticks": ""
            },
            "colorscale": [
             [
              0,
              "#0d0887"
             ],
             [
              0.1111111111111111,
              "#46039f"
             ],
             [
              0.2222222222222222,
              "#7201a8"
             ],
             [
              0.3333333333333333,
              "#9c179e"
             ],
             [
              0.4444444444444444,
              "#bd3786"
             ],
             [
              0.5555555555555556,
              "#d8576b"
             ],
             [
              0.6666666666666666,
              "#ed7953"
             ],
             [
              0.7777777777777778,
              "#fb9f3a"
             ],
             [
              0.8888888888888888,
              "#fdca26"
             ],
             [
              1,
              "#f0f921"
             ]
            ],
            "type": "heatmapgl"
           }
          ],
          "histogram": [
           {
            "marker": {
             "pattern": {
              "fillmode": "overlay",
              "size": 10,
              "solidity": 0.2
             }
            },
            "type": "histogram"
           }
          ],
          "histogram2d": [
           {
            "colorbar": {
             "outlinewidth": 0,
             "ticks": ""
            },
            "colorscale": [
             [
              0,
              "#0d0887"
             ],
             [
              0.1111111111111111,
              "#46039f"
             ],
             [
              0.2222222222222222,
              "#7201a8"
             ],
             [
              0.3333333333333333,
              "#9c179e"
             ],
             [
              0.4444444444444444,
              "#bd3786"
             ],
             [
              0.5555555555555556,
              "#d8576b"
             ],
             [
              0.6666666666666666,
              "#ed7953"
             ],
             [
              0.7777777777777778,
              "#fb9f3a"
             ],
             [
              0.8888888888888888,
              "#fdca26"
             ],
             [
              1,
              "#f0f921"
             ]
            ],
            "type": "histogram2d"
           }
          ],
          "histogram2dcontour": [
           {
            "colorbar": {
             "outlinewidth": 0,
             "ticks": ""
            },
            "colorscale": [
             [
              0,
              "#0d0887"
             ],
             [
              0.1111111111111111,
              "#46039f"
             ],
             [
              0.2222222222222222,
              "#7201a8"
             ],
             [
              0.3333333333333333,
              "#9c179e"
             ],
             [
              0.4444444444444444,
              "#bd3786"
             ],
             [
              0.5555555555555556,
              "#d8576b"
             ],
             [
              0.6666666666666666,
              "#ed7953"
             ],
             [
              0.7777777777777778,
              "#fb9f3a"
             ],
             [
              0.8888888888888888,
              "#fdca26"
             ],
             [
              1,
              "#f0f921"
             ]
            ],
            "type": "histogram2dcontour"
           }
          ],
          "mesh3d": [
           {
            "colorbar": {
             "outlinewidth": 0,
             "ticks": ""
            },
            "type": "mesh3d"
           }
          ],
          "parcoords": [
           {
            "line": {
             "colorbar": {
              "outlinewidth": 0,
              "ticks": ""
             }
            },
            "type": "parcoords"
           }
          ],
          "pie": [
           {
            "automargin": true,
            "type": "pie"
           }
          ],
          "scatter": [
           {
            "marker": {
             "colorbar": {
              "outlinewidth": 0,
              "ticks": ""
             }
            },
            "type": "scatter"
           }
          ],
          "scatter3d": [
           {
            "line": {
             "colorbar": {
              "outlinewidth": 0,
              "ticks": ""
             }
            },
            "marker": {
             "colorbar": {
              "outlinewidth": 0,
              "ticks": ""
             }
            },
            "type": "scatter3d"
           }
          ],
          "scattercarpet": [
           {
            "marker": {
             "colorbar": {
              "outlinewidth": 0,
              "ticks": ""
             }
            },
            "type": "scattercarpet"
           }
          ],
          "scattergeo": [
           {
            "marker": {
             "colorbar": {
              "outlinewidth": 0,
              "ticks": ""
             }
            },
            "type": "scattergeo"
           }
          ],
          "scattergl": [
           {
            "marker": {
             "colorbar": {
              "outlinewidth": 0,
              "ticks": ""
             }
            },
            "type": "scattergl"
           }
          ],
          "scattermapbox": [
           {
            "marker": {
             "colorbar": {
              "outlinewidth": 0,
              "ticks": ""
             }
            },
            "type": "scattermapbox"
           }
          ],
          "scatterpolar": [
           {
            "marker": {
             "colorbar": {
              "outlinewidth": 0,
              "ticks": ""
             }
            },
            "type": "scatterpolar"
           }
          ],
          "scatterpolargl": [
           {
            "marker": {
             "colorbar": {
              "outlinewidth": 0,
              "ticks": ""
             }
            },
            "type": "scatterpolargl"
           }
          ],
          "scatterternary": [
           {
            "marker": {
             "colorbar": {
              "outlinewidth": 0,
              "ticks": ""
             }
            },
            "type": "scatterternary"
           }
          ],
          "surface": [
           {
            "colorbar": {
             "outlinewidth": 0,
             "ticks": ""
            },
            "colorscale": [
             [
              0,
              "#0d0887"
             ],
             [
              0.1111111111111111,
              "#46039f"
             ],
             [
              0.2222222222222222,
              "#7201a8"
             ],
             [
              0.3333333333333333,
              "#9c179e"
             ],
             [
              0.4444444444444444,
              "#bd3786"
             ],
             [
              0.5555555555555556,
              "#d8576b"
             ],
             [
              0.6666666666666666,
              "#ed7953"
             ],
             [
              0.7777777777777778,
              "#fb9f3a"
             ],
             [
              0.8888888888888888,
              "#fdca26"
             ],
             [
              1,
              "#f0f921"
             ]
            ],
            "type": "surface"
           }
          ],
          "table": [
           {
            "cells": {
             "fill": {
              "color": "#EBF0F8"
             },
             "line": {
              "color": "white"
             }
            },
            "header": {
             "fill": {
              "color": "#C8D4E3"
             },
             "line": {
              "color": "white"
             }
            },
            "type": "table"
           }
          ]
         },
         "layout": {
          "annotationdefaults": {
           "arrowcolor": "#2a3f5f",
           "arrowhead": 0,
           "arrowwidth": 1
          },
          "autotypenumbers": "strict",
          "coloraxis": {
           "colorbar": {
            "outlinewidth": 0,
            "ticks": ""
           }
          },
          "colorscale": {
           "diverging": [
            [
             0,
             "#8e0152"
            ],
            [
             0.1,
             "#c51b7d"
            ],
            [
             0.2,
             "#de77ae"
            ],
            [
             0.3,
             "#f1b6da"
            ],
            [
             0.4,
             "#fde0ef"
            ],
            [
             0.5,
             "#f7f7f7"
            ],
            [
             0.6,
             "#e6f5d0"
            ],
            [
             0.7,
             "#b8e186"
            ],
            [
             0.8,
             "#7fbc41"
            ],
            [
             0.9,
             "#4d9221"
            ],
            [
             1,
             "#276419"
            ]
           ],
           "sequential": [
            [
             0,
             "#0d0887"
            ],
            [
             0.1111111111111111,
             "#46039f"
            ],
            [
             0.2222222222222222,
             "#7201a8"
            ],
            [
             0.3333333333333333,
             "#9c179e"
            ],
            [
             0.4444444444444444,
             "#bd3786"
            ],
            [
             0.5555555555555556,
             "#d8576b"
            ],
            [
             0.6666666666666666,
             "#ed7953"
            ],
            [
             0.7777777777777778,
             "#fb9f3a"
            ],
            [
             0.8888888888888888,
             "#fdca26"
            ],
            [
             1,
             "#f0f921"
            ]
           ],
           "sequentialminus": [
            [
             0,
             "#0d0887"
            ],
            [
             0.1111111111111111,
             "#46039f"
            ],
            [
             0.2222222222222222,
             "#7201a8"
            ],
            [
             0.3333333333333333,
             "#9c179e"
            ],
            [
             0.4444444444444444,
             "#bd3786"
            ],
            [
             0.5555555555555556,
             "#d8576b"
            ],
            [
             0.6666666666666666,
             "#ed7953"
            ],
            [
             0.7777777777777778,
             "#fb9f3a"
            ],
            [
             0.8888888888888888,
             "#fdca26"
            ],
            [
             1,
             "#f0f921"
            ]
           ]
          },
          "colorway": [
           "#636efa",
           "#EF553B",
           "#00cc96",
           "#ab63fa",
           "#FFA15A",
           "#19d3f3",
           "#FF6692",
           "#B6E880",
           "#FF97FF",
           "#FECB52"
          ],
          "font": {
           "color": "#2a3f5f"
          },
          "geo": {
           "bgcolor": "white",
           "lakecolor": "white",
           "landcolor": "#E5ECF6",
           "showlakes": true,
           "showland": true,
           "subunitcolor": "white"
          },
          "hoverlabel": {
           "align": "left"
          },
          "hovermode": "closest",
          "mapbox": {
           "style": "light"
          },
          "paper_bgcolor": "white",
          "plot_bgcolor": "#E5ECF6",
          "polar": {
           "angularaxis": {
            "gridcolor": "white",
            "linecolor": "white",
            "ticks": ""
           },
           "bgcolor": "#E5ECF6",
           "radialaxis": {
            "gridcolor": "white",
            "linecolor": "white",
            "ticks": ""
           }
          },
          "scene": {
           "xaxis": {
            "backgroundcolor": "#E5ECF6",
            "gridcolor": "white",
            "gridwidth": 2,
            "linecolor": "white",
            "showbackground": true,
            "ticks": "",
            "zerolinecolor": "white"
           },
           "yaxis": {
            "backgroundcolor": "#E5ECF6",
            "gridcolor": "white",
            "gridwidth": 2,
            "linecolor": "white",
            "showbackground": true,
            "ticks": "",
            "zerolinecolor": "white"
           },
           "zaxis": {
            "backgroundcolor": "#E5ECF6",
            "gridcolor": "white",
            "gridwidth": 2,
            "linecolor": "white",
            "showbackground": true,
            "ticks": "",
            "zerolinecolor": "white"
           }
          },
          "shapedefaults": {
           "line": {
            "color": "#2a3f5f"
           }
          },
          "ternary": {
           "aaxis": {
            "gridcolor": "white",
            "linecolor": "white",
            "ticks": ""
           },
           "baxis": {
            "gridcolor": "white",
            "linecolor": "white",
            "ticks": ""
           },
           "bgcolor": "#E5ECF6",
           "caxis": {
            "gridcolor": "white",
            "linecolor": "white",
            "ticks": ""
           }
          },
          "title": {
           "x": 0.05
          },
          "xaxis": {
           "automargin": true,
           "gridcolor": "white",
           "linecolor": "white",
           "ticks": "",
           "title": {
            "standoff": 15
           },
           "zerolinecolor": "white",
           "zerolinewidth": 2
          },
          "yaxis": {
           "automargin": true,
           "gridcolor": "white",
           "linecolor": "white",
           "ticks": "",
           "title": {
            "standoff": 15
           },
           "zerolinecolor": "white",
           "zerolinewidth": 2
          }
         }
        },
        "xaxis": {
         "anchor": "y",
         "domain": [
          0,
          1
         ],
         "title": {
          "text": "test"
         }
        },
        "yaxis": {
         "anchor": "x",
         "domain": [
          0,
          1
         ],
         "title": {
          "text": "predict"
         }
        }
       }
      },
      "text/html": [
       "<div>                            <div id=\"d4fe6314-d0f0-4014-be64-5b295b086c2d\" class=\"plotly-graph-div\" style=\"height:525px; width:100%;\"></div>            <script type=\"text/javascript\">                require([\"plotly\"], function(Plotly) {                    window.PLOTLYENV=window.PLOTLYENV || {};                                    if (document.getElementById(\"d4fe6314-d0f0-4014-be64-5b295b086c2d\")) {                    Plotly.newPlot(                        \"d4fe6314-d0f0-4014-be64-5b295b086c2d\",                        [{\"hovertemplate\":\"test=%{x}<br>predict=%{y}<extra></extra>\",\"legendgroup\":\"\",\"marker\":{\"color\":\"#636efa\",\"symbol\":\"circle\"},\"mode\":\"markers\",\"name\":\"\",\"orientation\":\"v\",\"showlegend\":false,\"type\":\"scatter\",\"x\":[1187.2212297713886,12301.334488200308,12397.54279089352,5052.257711306072,10654.877005779339,3178.842021165943,3195.540428167995,14165.385136487517,2559.247346640939,12453.908445405481,14581.602966596338,13500.170331877518,14513.896326261261,-649.1016485894397,11481.680969783458,15936.13878749791,2182.4758222361997,9369.99605677681,3678.374274982205,7668.1229898827805,13562.117380547063,12649.794926625395,12744.213205605702,9211.558172105128,4200.787231143113,12676.585302839683,13651.74398569887,2853.161387077711,8971.165144849612,10490.415957038056,11593.591842195057,-129.8557896201055,11576.702372298018,2617.997435190955,3437.8217793548974,-1014.7380227655485,5721.54962703924,486.8633004671501,924.2345953269978,10422.755537818142,2422.121311691222,16402.382532112468,12505.237167808407,6557.127524049436,12882.6411660523,13321.409328297515,-1260.982275402057,4016.2286270902514,-2510.257400483788,2663.073223739586,633.6008838613197,14592.566186738244,12924.44770902859,1729.536743989127,-3141.9125811330305,13913.865516858932,2764.810029075874,10141.862224230947,12141.94235099865,14985.854350584403,7769.072015195419,5570.237077179649,-2536.332086427421,12107.603121764017,9484.226007895799,14789.400760630257,1157.6334238308773,6727.263801198485,2577.2725535550635,15820.020386921855,9701.811750745697,6143.548308086232,14564.723152324053,2174.6881347453927,-1249.2149504534827,1747.5648431073969,6498.159609425624,13868.726258186183,4714.119648279564,10663.281218458445,15150.888405303687,8578.282981392436,7671.974887383378,6164.471740522207,11571.851607620125,8062.48203431052,6778.35909775113,12918.422493985578,12917.234263971395,5800.730037180918,8839.841848207532,11709.946049187627,8177.918963790544,13266.693497160657,15491.392913094123,1587.4421667822899,16.598749306929676,1894.6434022527137,12345.830450622196,13046.023989142146,4889.406246527575,74.89240808054456,585.751438790423,11801.146004654112,11015.965214448106,1366.0307082094296,11632.823873389774,12430.552771684028,-1959.6541216520236,13668.40939916141,12987.019830398685,8793.212473153035,12060.41188477144,2159.341264706167,1344.7044326203468,14145.115355457863,3490.883017205517,208.88479386987092,10822.248428923556,14291.734799778673,4377.3800071574515,15474.962416174607,14294.624172975671,-509.4337287205053,16107.110352558147,9745.041754816179,11369.926491267348,14107.379358378228,5522.062135669334,3586.491838759677,12526.968216405487,-1451.2477461989256,10225.072116083116,15892.064077548506,14685.032584590723,1209.1089128154745,13852.055367251973,435.1252461856602,5540.643877512641,12690.275086941607,6536.38602161466,12591.511424219,3586.966037619248,1347.6714628886984,2873.453130393864,-2430.3860159403703,2561.947541738511,14173.320451461073,12601.55241509486,9427.397290894933,2185.4519503648735,1922.9355177429643,15472.672408127566,7391.899572219427,-218.19869180084424,8983.0648090902,8888.121162626034,10775.59289134659,12579.778330626521,-2961.4060168274773,8642.610506616176,1955.8526947452228,8959.839811697002,936.3408179221478,3090.0757504632093,16580.141013910255,8133.038041765612,10282.378568692286,10347.207398627075,8348.079838045873,13743.027248807766,2705.7471815289064,13553.612156548345,14947.84117490261,5327.792706497508,4741.182219352453,940.5484316034417,6451.043941796597,12263.768012348673,-423.71836830291795,15303.680896402799,15316.59278691523,3859.328315994586,10997.707983426155,3869.4714266474475,981.153127702426,10981.585324165528,11627.372883462504,12419.135247002163,12080.486629183004,13276.405504733955,12594.932252557526,13257.667553268051,750.5610907521659,7107.113749991484,12733.698801313423,2856.002840776284,10455.189218507901,10090.552500378786,2659.800066786138,12717.314910879959,4203.95515023093,4260.84587665915,8207.012032515726,6107.949381283674,-3390.5416079749302,15101.3540561546,6983.355304786761,11242.64327019274,1100.3797010577691,8569.982629471255,6134.442158032543,14178.965403451271,15576.29789708887,8630.85264840287,8266.903628248547,-127.7727021214705,16331.339728376446,-3012.5671224031357,12898.75209676595,7142.703861712016,1749.2642896312573,6605.683213531302,466.98074189562976,4841.911822074537,12415.62707002626,10979.633167521888,9608.53521119039,11900.738264431482,14917.865727075712,13001.77119494012,4377.780505994306,8219.553162308763,14267.688542374173,11739.111588512951,4077.9264623383133,2614.84369043693,3738.8307175343107,332.9053287518873,-3792.926006359725,15765.624426502342,11132.01681127203,9342.25754750903,6582.970189211159,8008.731683205697,8641.266061942817,2824.0685979721165,6885.507054736845,7883.422903774768,12834.343669205224,-3351.653473219165,13654.818387265845,6581.967090476137,-1133.0247558862975,12274.89410848726,13984.59883042331,-2723.1686638382635,-1025.157559529678,4534.467577524145,5740.809085428547,-2182.251656835848,3874.9396285233997,16052.292191503711,12082.55577528832,-1549.5564895578682,11794.059446536667,13027.258493619958,12551.446771268314,15797.826714248034,11829.824954760126,13218.623999248377,3432.5679249252717,3071.6077068333107,3009.750422608704,5688.967293473994,2188.2932158528383,3845.4811823152704,14490.873572876488,10820.515223190618,4301.884692690412,3688.6921515296817,8659.500111207373,13846.379995103767,12092.965633519454,-1581.2721068366336,4618.922212703103,8759.099392109434,9060.554371359005,11655.926397371062,12484.335411988584,11874.182347901306,1506.296666618986,15643.78424487039,7952.314324576717,1655.5819841328193,2207.7725500487177,10851.702486706145,-958.4153736970329,-1788.1143207257774,2408.6580006133117,7751.430911950767,9220.775462468504,-1013.6976015101827,14136.475128925902,12669.612510042298,1590.7909140877164,2742.3389342104165,6006.924480432532,14472.264936488455,13333.897538442048,13914.145873775802,226.53265125489997,-2841.5774892960726,8651.430669104786,983.9779794052956,5018.263552455461,-2152.237759088417,12659.547972331136,-1605.3168148782788,9476.391298537124,-1669.259126144705,732.8510977995211,2831.137214987906,10547.49627925014,1321.6809587725475,2227.686143919873,8031.01775973415,12373.233504887463,3901.239043280799,709.3748081385456,3301.3714878008795,8911.260225248589,12994.452367554473,12243.715814107793,-46.779765096584015,13680.628349388693,4636.1980818047305,1650.3738563857296,4871.142034370601,6154.899248266454,11112.104032889894],\"xaxis\":\"x\",\"y\":[388.0,5599.077872,6650.195573,2156.956069,2982.101858,699.5016441,844.8763504,20206.82098,530.0535319,9508.141454,5937.029526,22031.53274,22525.56308,1643.38711,5118.146939,27538.41188,794.3484384,4161.415959,1694.337469,1057.206311,11054.56175,10560.48553,4876.798614,2849.09478,1895.016984,7612.240438,21597.08362,1937.577675,1902.2521,4161.727834,4247.400261,1148.376626,1876.766827,2042.09524,952.386129,736.4153921,1647.511665,1612.404632,805.5724718,1348.775651,2452.210407,30687.75473,6302.623438,1005.245812,7429.455877,16046.03728,997.7661127,2144.115096,764.7259628,5487.104219,911.2989371,22705.09254,6351.237495,1452.725766,2669.529475,15937.21123,1704.063724,6856.856212,7408.905561,6340.646683,6660.118654,3503.729636,862.4421463,9371.842561,3560.233174,23311.34939,2586.886053,1044.770126,896.9663732,26997.93657,2046.154706,1202.201361,10611.46299,1746.769454,780.5423257,1544.228586,4834.804067,18334.19751,3876.76846,3810.419296,18051.52254,706.1573059,2277.742396,2480.380334,10535.62855,7225.069258,4910.416756,10159.58368,8393.741404,4016.239529,1339.076036,5186.050003,5745.160213,9692.385245,22514.2548,3457.415947,575.9870009,1643.485354,9082.351172,17909.48973,1222.359968,721.1860862,457.7191807,5249.802653,4319.804067,747.0835292,7346.547557,6017.190733,761.879376,16048.51424,9767.29753,3054.421209,8662.834898,915.9850592,881.5706467,20293.89746,1217.032994,927.8253427,5023.216647,25116.17581,2677.939642,30281.70459,18533.15761,884.7552507,27968.09817,4657.22102,5477.890018,18794.74567,847.0061135,1544.402995,5596.519826,2627.845685,4448.679912,33207.0844,22066.44214,944.4383152,12779.37964,631.6998778,9613.818607,5926.876967,1034.298904,12037.26758,617.7244065,3035.326002,2117.234893,496.1743428,2879.468067,16537.4835,10136.86713,3460.937025,879.5835855,559.603231,30246.13063,2702.620356,540.2893983,33693.17525,3774.571743,3674.735572,11348.54585,686.3736739,2755.046991,1085.796879,3536.540301,762.4317721,4957.037982,31163.20196,3682.831494,2899.842175,21198.26136,4551.14215,8527.844662,2348.009158,9875.604515,26298.63531,1993.398314,1481.150189,740.5063317,9576.037596,15181.0927,958.5668124,20509.64777,34077.04939,2538.269358,3530.690067,2108.944355,8358.761987,6361.517993,8842.59803,9714.960623,5351.568666,17428.74846,6920.223051,13175.678,1576.97375,4581.609385,14734.23275,797.9081006,8052.953021,2170.151724,2291.156835,16661.6256,7114.477971,2517.736547,6434.501797,4358.595393,576.2670245,26626.51503,6281.290855,4920.355951,1035.831411,1075.811558,2036.884944,9809.185636,24675.02446,6642.881371,4021.175739,468.7949699,36319.23501,734.7829124,8605.047831,34167.7626,1421.145193,21951.21176,2387.54806,3119.280896,10733.92631,6601.429915,7213.791267,12545.99066,21888.88903,9534.677467,3781.410618,3326.143191,14619.22272,1385.896769,665.6244126,1586.851781,950.735869,1981.951806,599.650276,36023.1054,7991.707066,2861.092386,1748.356961,6089.786934,6809.40669,718.3730947,347.0,2678.729839,6597.494398,1353.759762,18970.57086,11848.34392,421.6240257,11367.16112,11628.38895,426.0964081,874.6858643,2289.234136,5937.827283,416.3698064,518.7642681,33328.96507,9022.247417,835.5234025,4916.299889,19702.05581,24072.63213,28926.03234,5862.276629,32003.93224,5768.729717,406.8841148,349.0,3336.585802,1164.406809,4811.060429,17558.81555,4086.522128,4643.393534,1056.736457,1961.224635,8941.571858,3783.674243,915.5960025,527.2721818,3794.755195,7807.095818,16173.14586,5728.353514,5444.61962,912.6626085,20896.60924,3023.271928,1544.750112,807.1985855,2760.196931,1308.495577,344.1618859,1777.077318,944.0,3216.956347,954.2092363,10095.42172,9021.815894,672.774812,912.0631417,2769.451844,20422.9015,35767.43303,9911.878226,853.540919,820.2245876,1091.359778,2617.155967,1632.210764,582.8419714,9308.41871,1284.73318,2393.219781,2430.208311,630.2336265,1156.18186,2523.337977,659.8772322,1111.107907,1391.253792,5693.843879,1408.678565,505.7538077,580.3052092,3682.259903,8513.097016,8597.756202,803.0054535,12002.23908,1191.207681,694.1124398,2602.710169,4879.507522,4564.80241],\"yaxis\":\"y\"}],                        {\"legend\":{\"tracegroupgap\":0},\"margin\":{\"t\":60},\"template\":{\"data\":{\"bar\":[{\"error_x\":{\"color\":\"#2a3f5f\"},\"error_y\":{\"color\":\"#2a3f5f\"},\"marker\":{\"line\":{\"color\":\"#E5ECF6\",\"width\":0.5},\"pattern\":{\"fillmode\":\"overlay\",\"size\":10,\"solidity\":0.2}},\"type\":\"bar\"}],\"barpolar\":[{\"marker\":{\"line\":{\"color\":\"#E5ECF6\",\"width\":0.5},\"pattern\":{\"fillmode\":\"overlay\",\"size\":10,\"solidity\":0.2}},\"type\":\"barpolar\"}],\"carpet\":[{\"aaxis\":{\"endlinecolor\":\"#2a3f5f\",\"gridcolor\":\"white\",\"linecolor\":\"white\",\"minorgridcolor\":\"white\",\"startlinecolor\":\"#2a3f5f\"},\"baxis\":{\"endlinecolor\":\"#2a3f5f\",\"gridcolor\":\"white\",\"linecolor\":\"white\",\"minorgridcolor\":\"white\",\"startlinecolor\":\"#2a3f5f\"},\"type\":\"carpet\"}],\"choropleth\":[{\"colorbar\":{\"outlinewidth\":0,\"ticks\":\"\"},\"type\":\"choropleth\"}],\"contour\":[{\"colorbar\":{\"outlinewidth\":0,\"ticks\":\"\"},\"colorscale\":[[0.0,\"#0d0887\"],[0.1111111111111111,\"#46039f\"],[0.2222222222222222,\"#7201a8\"],[0.3333333333333333,\"#9c179e\"],[0.4444444444444444,\"#bd3786\"],[0.5555555555555556,\"#d8576b\"],[0.6666666666666666,\"#ed7953\"],[0.7777777777777778,\"#fb9f3a\"],[0.8888888888888888,\"#fdca26\"],[1.0,\"#f0f921\"]],\"type\":\"contour\"}],\"contourcarpet\":[{\"colorbar\":{\"outlinewidth\":0,\"ticks\":\"\"},\"type\":\"contourcarpet\"}],\"heatmap\":[{\"colorbar\":{\"outlinewidth\":0,\"ticks\":\"\"},\"colorscale\":[[0.0,\"#0d0887\"],[0.1111111111111111,\"#46039f\"],[0.2222222222222222,\"#7201a8\"],[0.3333333333333333,\"#9c179e\"],[0.4444444444444444,\"#bd3786\"],[0.5555555555555556,\"#d8576b\"],[0.6666666666666666,\"#ed7953\"],[0.7777777777777778,\"#fb9f3a\"],[0.8888888888888888,\"#fdca26\"],[1.0,\"#f0f921\"]],\"type\":\"heatmap\"}],\"heatmapgl\":[{\"colorbar\":{\"outlinewidth\":0,\"ticks\":\"\"},\"colorscale\":[[0.0,\"#0d0887\"],[0.1111111111111111,\"#46039f\"],[0.2222222222222222,\"#7201a8\"],[0.3333333333333333,\"#9c179e\"],[0.4444444444444444,\"#bd3786\"],[0.5555555555555556,\"#d8576b\"],[0.6666666666666666,\"#ed7953\"],[0.7777777777777778,\"#fb9f3a\"],[0.8888888888888888,\"#fdca26\"],[1.0,\"#f0f921\"]],\"type\":\"heatmapgl\"}],\"histogram\":[{\"marker\":{\"pattern\":{\"fillmode\":\"overlay\",\"size\":10,\"solidity\":0.2}},\"type\":\"histogram\"}],\"histogram2d\":[{\"colorbar\":{\"outlinewidth\":0,\"ticks\":\"\"},\"colorscale\":[[0.0,\"#0d0887\"],[0.1111111111111111,\"#46039f\"],[0.2222222222222222,\"#7201a8\"],[0.3333333333333333,\"#9c179e\"],[0.4444444444444444,\"#bd3786\"],[0.5555555555555556,\"#d8576b\"],[0.6666666666666666,\"#ed7953\"],[0.7777777777777778,\"#fb9f3a\"],[0.8888888888888888,\"#fdca26\"],[1.0,\"#f0f921\"]],\"type\":\"histogram2d\"}],\"histogram2dcontour\":[{\"colorbar\":{\"outlinewidth\":0,\"ticks\":\"\"},\"colorscale\":[[0.0,\"#0d0887\"],[0.1111111111111111,\"#46039f\"],[0.2222222222222222,\"#7201a8\"],[0.3333333333333333,\"#9c179e\"],[0.4444444444444444,\"#bd3786\"],[0.5555555555555556,\"#d8576b\"],[0.6666666666666666,\"#ed7953\"],[0.7777777777777778,\"#fb9f3a\"],[0.8888888888888888,\"#fdca26\"],[1.0,\"#f0f921\"]],\"type\":\"histogram2dcontour\"}],\"mesh3d\":[{\"colorbar\":{\"outlinewidth\":0,\"ticks\":\"\"},\"type\":\"mesh3d\"}],\"parcoords\":[{\"line\":{\"colorbar\":{\"outlinewidth\":0,\"ticks\":\"\"}},\"type\":\"parcoords\"}],\"pie\":[{\"automargin\":true,\"type\":\"pie\"}],\"scatter\":[{\"marker\":{\"colorbar\":{\"outlinewidth\":0,\"ticks\":\"\"}},\"type\":\"scatter\"}],\"scatter3d\":[{\"line\":{\"colorbar\":{\"outlinewidth\":0,\"ticks\":\"\"}},\"marker\":{\"colorbar\":{\"outlinewidth\":0,\"ticks\":\"\"}},\"type\":\"scatter3d\"}],\"scattercarpet\":[{\"marker\":{\"colorbar\":{\"outlinewidth\":0,\"ticks\":\"\"}},\"type\":\"scattercarpet\"}],\"scattergeo\":[{\"marker\":{\"colorbar\":{\"outlinewidth\":0,\"ticks\":\"\"}},\"type\":\"scattergeo\"}],\"scattergl\":[{\"marker\":{\"colorbar\":{\"outlinewidth\":0,\"ticks\":\"\"}},\"type\":\"scattergl\"}],\"scattermapbox\":[{\"marker\":{\"colorbar\":{\"outlinewidth\":0,\"ticks\":\"\"}},\"type\":\"scattermapbox\"}],\"scatterpolar\":[{\"marker\":{\"colorbar\":{\"outlinewidth\":0,\"ticks\":\"\"}},\"type\":\"scatterpolar\"}],\"scatterpolargl\":[{\"marker\":{\"colorbar\":{\"outlinewidth\":0,\"ticks\":\"\"}},\"type\":\"scatterpolargl\"}],\"scatterternary\":[{\"marker\":{\"colorbar\":{\"outlinewidth\":0,\"ticks\":\"\"}},\"type\":\"scatterternary\"}],\"surface\":[{\"colorbar\":{\"outlinewidth\":0,\"ticks\":\"\"},\"colorscale\":[[0.0,\"#0d0887\"],[0.1111111111111111,\"#46039f\"],[0.2222222222222222,\"#7201a8\"],[0.3333333333333333,\"#9c179e\"],[0.4444444444444444,\"#bd3786\"],[0.5555555555555556,\"#d8576b\"],[0.6666666666666666,\"#ed7953\"],[0.7777777777777778,\"#fb9f3a\"],[0.8888888888888888,\"#fdca26\"],[1.0,\"#f0f921\"]],\"type\":\"surface\"}],\"table\":[{\"cells\":{\"fill\":{\"color\":\"#EBF0F8\"},\"line\":{\"color\":\"white\"}},\"header\":{\"fill\":{\"color\":\"#C8D4E3\"},\"line\":{\"color\":\"white\"}},\"type\":\"table\"}]},\"layout\":{\"annotationdefaults\":{\"arrowcolor\":\"#2a3f5f\",\"arrowhead\":0,\"arrowwidth\":1},\"autotypenumbers\":\"strict\",\"coloraxis\":{\"colorbar\":{\"outlinewidth\":0,\"ticks\":\"\"}},\"colorscale\":{\"diverging\":[[0,\"#8e0152\"],[0.1,\"#c51b7d\"],[0.2,\"#de77ae\"],[0.3,\"#f1b6da\"],[0.4,\"#fde0ef\"],[0.5,\"#f7f7f7\"],[0.6,\"#e6f5d0\"],[0.7,\"#b8e186\"],[0.8,\"#7fbc41\"],[0.9,\"#4d9221\"],[1,\"#276419\"]],\"sequential\":[[0.0,\"#0d0887\"],[0.1111111111111111,\"#46039f\"],[0.2222222222222222,\"#7201a8\"],[0.3333333333333333,\"#9c179e\"],[0.4444444444444444,\"#bd3786\"],[0.5555555555555556,\"#d8576b\"],[0.6666666666666666,\"#ed7953\"],[0.7777777777777778,\"#fb9f3a\"],[0.8888888888888888,\"#fdca26\"],[1.0,\"#f0f921\"]],\"sequentialminus\":[[0.0,\"#0d0887\"],[0.1111111111111111,\"#46039f\"],[0.2222222222222222,\"#7201a8\"],[0.3333333333333333,\"#9c179e\"],[0.4444444444444444,\"#bd3786\"],[0.5555555555555556,\"#d8576b\"],[0.6666666666666666,\"#ed7953\"],[0.7777777777777778,\"#fb9f3a\"],[0.8888888888888888,\"#fdca26\"],[1.0,\"#f0f921\"]]},\"colorway\":[\"#636efa\",\"#EF553B\",\"#00cc96\",\"#ab63fa\",\"#FFA15A\",\"#19d3f3\",\"#FF6692\",\"#B6E880\",\"#FF97FF\",\"#FECB52\"],\"font\":{\"color\":\"#2a3f5f\"},\"geo\":{\"bgcolor\":\"white\",\"lakecolor\":\"white\",\"landcolor\":\"#E5ECF6\",\"showlakes\":true,\"showland\":true,\"subunitcolor\":\"white\"},\"hoverlabel\":{\"align\":\"left\"},\"hovermode\":\"closest\",\"mapbox\":{\"style\":\"light\"},\"paper_bgcolor\":\"white\",\"plot_bgcolor\":\"#E5ECF6\",\"polar\":{\"angularaxis\":{\"gridcolor\":\"white\",\"linecolor\":\"white\",\"ticks\":\"\"},\"bgcolor\":\"#E5ECF6\",\"radialaxis\":{\"gridcolor\":\"white\",\"linecolor\":\"white\",\"ticks\":\"\"}},\"scene\":{\"xaxis\":{\"backgroundcolor\":\"#E5ECF6\",\"gridcolor\":\"white\",\"gridwidth\":2,\"linecolor\":\"white\",\"showbackground\":true,\"ticks\":\"\",\"zerolinecolor\":\"white\"},\"yaxis\":{\"backgroundcolor\":\"#E5ECF6\",\"gridcolor\":\"white\",\"gridwidth\":2,\"linecolor\":\"white\",\"showbackground\":true,\"ticks\":\"\",\"zerolinecolor\":\"white\"},\"zaxis\":{\"backgroundcolor\":\"#E5ECF6\",\"gridcolor\":\"white\",\"gridwidth\":2,\"linecolor\":\"white\",\"showbackground\":true,\"ticks\":\"\",\"zerolinecolor\":\"white\"}},\"shapedefaults\":{\"line\":{\"color\":\"#2a3f5f\"}},\"ternary\":{\"aaxis\":{\"gridcolor\":\"white\",\"linecolor\":\"white\",\"ticks\":\"\"},\"baxis\":{\"gridcolor\":\"white\",\"linecolor\":\"white\",\"ticks\":\"\"},\"bgcolor\":\"#E5ECF6\",\"caxis\":{\"gridcolor\":\"white\",\"linecolor\":\"white\",\"ticks\":\"\"}},\"title\":{\"x\":0.05},\"xaxis\":{\"automargin\":true,\"gridcolor\":\"white\",\"linecolor\":\"white\",\"ticks\":\"\",\"title\":{\"standoff\":15},\"zerolinecolor\":\"white\",\"zerolinewidth\":2},\"yaxis\":{\"automargin\":true,\"gridcolor\":\"white\",\"linecolor\":\"white\",\"ticks\":\"\",\"title\":{\"standoff\":15},\"zerolinecolor\":\"white\",\"zerolinewidth\":2}}},\"xaxis\":{\"anchor\":\"y\",\"domain\":[0.0,1.0],\"title\":{\"text\":\"test\"}},\"yaxis\":{\"anchor\":\"x\",\"domain\":[0.0,1.0],\"title\":{\"text\":\"predict\"}}},                        {\"responsive\": true}                    ).then(function(){\n",
       "                            \n",
       "var gd = document.getElementById('d4fe6314-d0f0-4014-be64-5b295b086c2d');\n",
       "var x = new MutationObserver(function (mutations, observer) {{\n",
       "        var display = window.getComputedStyle(gd).display;\n",
       "        if (!display || display === 'none') {{\n",
       "            console.log([gd, 'removed!']);\n",
       "            Plotly.purge(gd);\n",
       "            observer.disconnect();\n",
       "        }}\n",
       "}});\n",
       "\n",
       "// Listen for the removal of the full notebook cells\n",
       "var notebookContainer = gd.closest('#notebook-container');\n",
       "if (notebookContainer) {{\n",
       "    x.observe(notebookContainer, {childList: true});\n",
       "}}\n",
       "\n",
       "// Listen for the clearing of the current output cell\n",
       "var outputEl = gd.closest('.output');\n",
       "if (outputEl) {{\n",
       "    x.observe(outputEl, {childList: true});\n",
       "}}\n",
       "\n",
       "                        })                };                });            </script>        </div>"
      ]
     },
     "metadata": {},
     "output_type": "display_data"
    }
   ],
   "source": [
    "fig = px.scatter(prediction, x='test', y='predict')\n",
    "fig.show()"
   ]
  },
  {
   "cell_type": "code",
   "execution_count": null,
   "id": "afraid-poultry",
   "metadata": {},
   "outputs": [],
   "source": []
  },
  {
   "cell_type": "code",
   "execution_count": 395,
   "id": "union-alias",
   "metadata": {},
   "outputs": [],
   "source": [
    "# Create loop"
   ]
  },
  {
   "cell_type": "code",
   "execution_count": 396,
   "id": "fixed-grounds",
   "metadata": {},
   "outputs": [],
   "source": [
    "scaler_list = [StandardScaler, MinMaxScaler, MaxAbsScaler, RobustScaler, Normalizer, QuantileTransformer, PowerTransformer]"
   ]
  },
  {
   "cell_type": "code",
   "execution_count": 397,
   "id": "authorized-terror",
   "metadata": {},
   "outputs": [],
   "source": [
    "x_train, x_test, y_train, y_test = train_test_split(X, Y, test_size = 0.2, random_state = 42)"
   ]
  },
  {
   "cell_type": "code",
   "execution_count": 398,
   "id": "opposite-cleaner",
   "metadata": {
    "scrolled": true
   },
   "outputs": [
    {
     "name": "stdout",
     "output_type": "stream",
     "text": [
      "<class 'sklearn.preprocessing._data.StandardScaler'>\n",
      "[   0.         -401.67444365 5960.82575211 -588.54086845]\n",
      "<class 'sklearn.preprocessing._data.MinMaxScaler'>\n",
      "[    0.         -1268.05342722 26960.68950349 -8103.78715061]\n",
      "<class 'sklearn.preprocessing._data.MaxAbsScaler'>\n",
      "[     0.         -46272.42233526  37743.77728725  -8104.16403257]\n",
      "<class 'sklearn.preprocessing._data.RobustScaler'>\n",
      "[    0.          -691.66550576 10513.72763085  -100.99877367]\n",
      "<class 'sklearn.preprocessing._data.Normalizer'>\n",
      "[ 1.31625545e+11 -7.12367036e+07  1.79974152e+08  4.14444642e+07]\n",
      "<class 'sklearn.preprocessing._data.QuantileTransformer'>\n",
      "[    0.         -1568.33757913 22112.1513066  -3314.48737566]\n",
      "<class 'sklearn.preprocessing._data.PowerTransformer'>\n",
      "[   0.         -495.75594876 6098.3257902     0.        ]\n"
     ]
    },
    {
     "name": "stderr",
     "output_type": "stream",
     "text": [
      "/Users/anneruhnke/opt/anaconda3/lib/python3.8/site-packages/sklearn/preprocessing/_data.py:3237: RuntimeWarning:\n",
      "\n",
      "divide by zero encountered in log\n",
      "\n"
     ]
    }
   ],
   "source": [
    "for i in range(0, len(scaler_list)):\n",
    "    scaler = scaler_list[i]()\n",
    "    scaler.fit(x_train)\n",
    "    x_train_scaled = scaler.transform(x_train)\n",
    "    model = LinearRegression()\n",
    "    results = model.fit(x_train_scaled, y_train)\n",
    "    print(scaler_list[i])\n",
    "    print(results.coef_)\n",
    "\n",
    "# interpretation of results?"
   ]
  }
 ],
 "metadata": {
  "kernelspec": {
   "display_name": "Python [conda env:root] *",
   "language": "python",
   "name": "conda-root-py"
  },
  "language_info": {
   "codemirror_mode": {
    "name": "ipython",
    "version": 3
   },
   "file_extension": ".py",
   "mimetype": "text/x-python",
   "name": "python",
   "nbconvert_exporter": "python",
   "pygments_lexer": "ipython3",
   "version": "3.8.8"
  }
 },
 "nbformat": 4,
 "nbformat_minor": 5
}
