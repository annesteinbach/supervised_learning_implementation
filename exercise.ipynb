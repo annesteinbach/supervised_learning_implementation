{
 "cells": [
  {
   "cell_type": "markdown",
   "id": "mathematical-backing",
   "metadata": {},
   "source": [
    "# Exercise"
   ]
  },
  {
   "cell_type": "markdown",
   "id": "disabled-stand",
   "metadata": {},
   "source": [
    "## Import libraries and data"
   ]
  },
  {
   "cell_type": "code",
   "execution_count": 2,
   "id": "requested-result",
   "metadata": {},
   "outputs": [],
   "source": [
    "import numpy as np\n",
    "import pandas as pd\n",
    "\n",
    "import matplotlib.pyplot as plt\n",
    "\n",
    "import seaborn as sns\n",
    "from seaborn import regplot\n",
    "\n",
    "import statsmodels.formula.api as smf\n",
    "import statsmodels.api as sm\n",
    "import statsmodels.stats.multicomp as multi\n",
    "\n",
    "import scipy\n",
    "from scipy import stats\n",
    "from scipy.stats import pearsonr\n",
    "\n",
    "from sklearn.preprocessing import MinMaxScaler\n",
    "from sklearn.preprocessing import minmax_scale\n",
    "from sklearn.preprocessing import MaxAbsScaler\n",
    "from sklearn.preprocessing import StandardScaler\n",
    "from sklearn.preprocessing import RobustScaler\n",
    "from sklearn.preprocessing import Normalizer\n",
    "from sklearn.preprocessing import QuantileTransformer\n",
    "from sklearn.preprocessing import PowerTransformer\n",
    "\n",
    "from sklearn.model_selection import train_test_split\n",
    "from sklearn.linear_model import LinearRegression\n",
    "from sklearn.metrics import r2_score\n",
    "from sklearn.metrics import mean_squared_error\n",
    "from sklearn.linear_model import LogisticRegression\n",
    "from sklearn.metrics import classification_report, confusion_matrix\n",
    "\n",
    "import researchpy as rp\n",
    "\n",
    "import plotly.express as px\n",
    "\n",
    "import statistics"
   ]
  },
  {
   "cell_type": "code",
   "execution_count": 3,
   "id": "opponent-carbon",
   "metadata": {},
   "outputs": [],
   "source": [
    "from gapminder import gapminder"
   ]
  },
  {
   "cell_type": "markdown",
   "id": "taken-google",
   "metadata": {},
   "source": [
    "## Workflow"
   ]
  },
  {
   "cell_type": "code",
   "execution_count": 4,
   "id": "young-ozone",
   "metadata": {},
   "outputs": [],
   "source": [
    "# Create variables (dummy variables)\n",
    "\n",
    "# X = df.drop(columns=['country', 'continent', 'gdp_per_cap'])\n",
    "# Y = df.gdp_per_cap\n",
    "\n",
    "# df_dummy = df.drop(columns=['country'])\n",
    "# df_dummy = pd.get_dummies(df_dummy)\n",
    "# X_dummy = df_dummy.drop(columns=['gdp_per_cap'])"
   ]
  },
  {
   "cell_type": "code",
   "execution_count": 5,
   "id": "blind-punishment",
   "metadata": {},
   "outputs": [],
   "source": [
    "# Scale data (scaler, transform)\n",
    "\n",
    "# scaler_standard = StandardScaler()\n",
    "# scaler_standard.fit(X)\n",
    "# X = scaler_standard.transform(X)"
   ]
  },
  {
   "cell_type": "code",
   "execution_count": 6,
   "id": "daily-builder",
   "metadata": {},
   "outputs": [],
   "source": [
    "# Split data set\n",
    "\n",
    "# x_train, x_test, y_train, y_test = train_test_split(X, Y, test_size = 0.2, random_state = 42)"
   ]
  },
  {
   "cell_type": "code",
   "execution_count": 7,
   "id": "controversial-compiler",
   "metadata": {},
   "outputs": [],
   "source": [
    "# Initiate model\n",
    "\n",
    "# model = LinearRegression()"
   ]
  },
  {
   "cell_type": "code",
   "execution_count": 8,
   "id": "amazing-apparatus",
   "metadata": {},
   "outputs": [],
   "source": [
    "# Fit model\n",
    "\n",
    "# results = model.fit(x_train, y_train)"
   ]
  },
  {
   "cell_type": "code",
   "execution_count": 9,
   "id": "excessive-corner",
   "metadata": {},
   "outputs": [],
   "source": [
    "# Predict values\n",
    "\n",
    "# y_predict = model.predict(x_test)\n",
    "# results???"
   ]
  },
  {
   "cell_type": "code",
   "execution_count": 10,
   "id": "velvet-africa",
   "metadata": {},
   "outputs": [],
   "source": [
    "# Calculate R2\n",
    "# score_scaler = r2_score(y_test,y_predict)\n",
    "# score_scaler"
   ]
  },
  {
   "cell_type": "markdown",
   "id": "negative-activity",
   "metadata": {},
   "source": [
    "## Import data"
   ]
  },
  {
   "cell_type": "code",
   "execution_count": 18,
   "id": "personalized-brick",
   "metadata": {},
   "outputs": [],
   "source": [
    "df = gapminder"
   ]
  },
  {
   "cell_type": "code",
   "execution_count": 20,
   "id": "violent-sunday",
   "metadata": {},
   "outputs": [],
   "source": [
    "df = df.rename(columns={'lifeExp':'life_exp', 'pop':'population', 'gdpPercap':'gdp_per_cap'})"
   ]
  },
  {
   "cell_type": "code",
   "execution_count": 21,
   "id": "accredited-carrier",
   "metadata": {},
   "outputs": [
    {
     "data": {
      "text/html": [
       "<div>\n",
       "<style scoped>\n",
       "    .dataframe tbody tr th:only-of-type {\n",
       "        vertical-align: middle;\n",
       "    }\n",
       "\n",
       "    .dataframe tbody tr th {\n",
       "        vertical-align: top;\n",
       "    }\n",
       "\n",
       "    .dataframe thead th {\n",
       "        text-align: right;\n",
       "    }\n",
       "</style>\n",
       "<table border=\"1\" class=\"dataframe\">\n",
       "  <thead>\n",
       "    <tr style=\"text-align: right;\">\n",
       "      <th></th>\n",
       "      <th>country</th>\n",
       "      <th>continent</th>\n",
       "      <th>year</th>\n",
       "      <th>life_exp</th>\n",
       "      <th>population</th>\n",
       "      <th>gdp_per_cap</th>\n",
       "    </tr>\n",
       "  </thead>\n",
       "  <tbody>\n",
       "    <tr>\n",
       "      <th>0</th>\n",
       "      <td>Afghanistan</td>\n",
       "      <td>Asia</td>\n",
       "      <td>1952</td>\n",
       "      <td>28.801</td>\n",
       "      <td>8425333</td>\n",
       "      <td>779.445314</td>\n",
       "    </tr>\n",
       "    <tr>\n",
       "      <th>1</th>\n",
       "      <td>Afghanistan</td>\n",
       "      <td>Asia</td>\n",
       "      <td>1957</td>\n",
       "      <td>30.332</td>\n",
       "      <td>9240934</td>\n",
       "      <td>820.853030</td>\n",
       "    </tr>\n",
       "    <tr>\n",
       "      <th>2</th>\n",
       "      <td>Afghanistan</td>\n",
       "      <td>Asia</td>\n",
       "      <td>1962</td>\n",
       "      <td>31.997</td>\n",
       "      <td>10267083</td>\n",
       "      <td>853.100710</td>\n",
       "    </tr>\n",
       "    <tr>\n",
       "      <th>3</th>\n",
       "      <td>Afghanistan</td>\n",
       "      <td>Asia</td>\n",
       "      <td>1967</td>\n",
       "      <td>34.020</td>\n",
       "      <td>11537966</td>\n",
       "      <td>836.197138</td>\n",
       "    </tr>\n",
       "    <tr>\n",
       "      <th>4</th>\n",
       "      <td>Afghanistan</td>\n",
       "      <td>Asia</td>\n",
       "      <td>1972</td>\n",
       "      <td>36.088</td>\n",
       "      <td>13079460</td>\n",
       "      <td>739.981106</td>\n",
       "    </tr>\n",
       "  </tbody>\n",
       "</table>\n",
       "</div>"
      ],
      "text/plain": [
       "       country continent  year  life_exp  population  gdp_per_cap\n",
       "0  Afghanistan      Asia  1952    28.801     8425333   779.445314\n",
       "1  Afghanistan      Asia  1957    30.332     9240934   820.853030\n",
       "2  Afghanistan      Asia  1962    31.997    10267083   853.100710\n",
       "3  Afghanistan      Asia  1967    34.020    11537966   836.197138\n",
       "4  Afghanistan      Asia  1972    36.088    13079460   739.981106"
      ]
     },
     "execution_count": 21,
     "metadata": {},
     "output_type": "execute_result"
    }
   ],
   "source": [
    "df.head()"
   ]
  },
  {
   "cell_type": "markdown",
   "id": "lasting-graph",
   "metadata": {},
   "source": [
    "## Exercise"
   ]
  },
  {
   "cell_type": "code",
   "execution_count": 13,
   "id": "trying-plaza",
   "metadata": {},
   "outputs": [],
   "source": [
    "# Create variables"
   ]
  },
  {
   "cell_type": "code",
   "execution_count": 22,
   "id": "measured-selection",
   "metadata": {},
   "outputs": [],
   "source": [
    "X = df.drop(columns=['gdp_per_cap'])"
   ]
  },
  {
   "cell_type": "code",
   "execution_count": 24,
   "id": "closing-burton",
   "metadata": {},
   "outputs": [],
   "source": [
    "Y = df.gdp_per_cap"
   ]
  },
  {
   "cell_type": "code",
   "execution_count": null,
   "id": "otherwise-barrier",
   "metadata": {},
   "outputs": [],
   "source": []
  },
  {
   "cell_type": "code",
   "execution_count": null,
   "id": "thorough-identification",
   "metadata": {},
   "outputs": [],
   "source": []
  }
 ],
 "metadata": {
  "kernelspec": {
   "display_name": "Python [conda env:root] *",
   "language": "python",
   "name": "conda-root-py"
  },
  "language_info": {
   "codemirror_mode": {
    "name": "ipython",
    "version": 3
   },
   "file_extension": ".py",
   "mimetype": "text/x-python",
   "name": "python",
   "nbconvert_exporter": "python",
   "pygments_lexer": "ipython3",
   "version": "3.8.8"
  }
 },
 "nbformat": 4,
 "nbformat_minor": 5
}
