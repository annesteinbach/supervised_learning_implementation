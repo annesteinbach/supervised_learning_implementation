{
 "cells": [
  {
   "cell_type": "markdown",
   "id": "dated-pulse",
   "metadata": {},
   "source": [
    "# Logistic Regression"
   ]
  },
  {
   "cell_type": "markdown",
   "id": "periodic-tactics",
   "metadata": {},
   "source": [
    "## Import libraries and data"
   ]
  },
  {
   "cell_type": "code",
   "execution_count": 82,
   "id": "broadband-stock",
   "metadata": {},
   "outputs": [],
   "source": [
    "import numpy as np\n",
    "import pandas as pd\n",
    "\n",
    "import matplotlib.pyplot as plt\n",
    "\n",
    "import seaborn as sns\n",
    "from seaborn import regplot\n",
    "\n",
    "import statsmodels.formula.api as smf\n",
    "import statsmodels.api as sm\n",
    "import statsmodels.stats.multicomp as multi\n",
    "\n",
    "import scipy\n",
    "from scipy import stats\n",
    "from scipy.stats import pearsonr\n",
    "\n",
    "from sklearn.preprocessing import MinMaxScaler\n",
    "from sklearn.model_selection import train_test_split\n",
    "from sklearn.linear_model import LinearRegression\n",
    "from sklearn.metrics import r2_score\n",
    "from sklearn.metrics import mean_squared_error\n",
    "from sklearn.linear_model import LogisticRegression\n",
    "from sklearn.metrics import classification_report, confusion_matrix\n",
    "\n",
    "import researchpy as rp\n",
    "\n",
    "import plotly.express as px"
   ]
  },
  {
   "cell_type": "code",
   "execution_count": 83,
   "id": "assumed-tracker",
   "metadata": {},
   "outputs": [],
   "source": [
    "df = pd.read_csv('data.csv')"
   ]
  },
  {
   "cell_type": "code",
   "execution_count": 84,
   "id": "informative-chambers",
   "metadata": {},
   "outputs": [],
   "source": [
    "# https://scikit-learn.org/stable/modules/generated/sklearn.linear_model.LogisticRegression.html"
   ]
  },
  {
   "cell_type": "code",
   "execution_count": 85,
   "id": "muslim-yugoslavia",
   "metadata": {},
   "outputs": [],
   "source": [
    "df = df.rename(columns={'PatientId':'patient_id', 'AppointmentID':'appointment_id', 'Gender':'gender', \n",
    "                        'ScheduledDay':'scheduled_day', 'AppointmentDay':'appointment_day', 'Age': 'age', \n",
    "                        'Neighbourhood':'neighbourhood', 'Scholarship':'scholarship', 'Hipertension':'hipertension', \n",
    "                        'Diabetes':'diabetes', 'Alcoholism':'alcoholism', 'Handcap':'handicap', 'SMS_received':'sms', \n",
    "                        'No-show':'show_up'})"
   ]
  },
  {
   "cell_type": "code",
   "execution_count": 86,
   "id": "nervous-pacific",
   "metadata": {
    "scrolled": false
   },
   "outputs": [
    {
     "data": {
      "text/html": [
       "<div>\n",
       "<style scoped>\n",
       "    .dataframe tbody tr th:only-of-type {\n",
       "        vertical-align: middle;\n",
       "    }\n",
       "\n",
       "    .dataframe tbody tr th {\n",
       "        vertical-align: top;\n",
       "    }\n",
       "\n",
       "    .dataframe thead th {\n",
       "        text-align: right;\n",
       "    }\n",
       "</style>\n",
       "<table border=\"1\" class=\"dataframe\">\n",
       "  <thead>\n",
       "    <tr style=\"text-align: right;\">\n",
       "      <th></th>\n",
       "      <th>patient_id</th>\n",
       "      <th>appointment_id</th>\n",
       "      <th>gender</th>\n",
       "      <th>scheduled_day</th>\n",
       "      <th>appointment_day</th>\n",
       "      <th>age</th>\n",
       "      <th>neighbourhood</th>\n",
       "      <th>scholarship</th>\n",
       "      <th>hipertension</th>\n",
       "      <th>diabetes</th>\n",
       "      <th>alcoholism</th>\n",
       "      <th>handicap</th>\n",
       "      <th>sms</th>\n",
       "      <th>show_up</th>\n",
       "    </tr>\n",
       "  </thead>\n",
       "  <tbody>\n",
       "    <tr>\n",
       "      <th>0</th>\n",
       "      <td>29872499824296</td>\n",
       "      <td>5642903</td>\n",
       "      <td>0</td>\n",
       "      <td>2016-04-29 18:38:08+00:00</td>\n",
       "      <td>2016-04-29 00:00:00+00:00</td>\n",
       "      <td>62</td>\n",
       "      <td>JARDIM DA PENHA</td>\n",
       "      <td>0</td>\n",
       "      <td>1</td>\n",
       "      <td>0</td>\n",
       "      <td>0</td>\n",
       "      <td>0</td>\n",
       "      <td>0</td>\n",
       "      <td>1</td>\n",
       "    </tr>\n",
       "    <tr>\n",
       "      <th>1</th>\n",
       "      <td>558997776694438</td>\n",
       "      <td>5642503</td>\n",
       "      <td>1</td>\n",
       "      <td>2016-04-29 16:08:27+00:00</td>\n",
       "      <td>2016-04-29 00:00:00+00:00</td>\n",
       "      <td>56</td>\n",
       "      <td>JARDIM DA PENHA</td>\n",
       "      <td>0</td>\n",
       "      <td>0</td>\n",
       "      <td>0</td>\n",
       "      <td>0</td>\n",
       "      <td>0</td>\n",
       "      <td>0</td>\n",
       "      <td>1</td>\n",
       "    </tr>\n",
       "    <tr>\n",
       "      <th>2</th>\n",
       "      <td>4262962299951</td>\n",
       "      <td>5642549</td>\n",
       "      <td>0</td>\n",
       "      <td>2016-04-29 16:19:04+00:00</td>\n",
       "      <td>2016-04-29 00:00:00+00:00</td>\n",
       "      <td>62</td>\n",
       "      <td>MATA DA PRAIA</td>\n",
       "      <td>0</td>\n",
       "      <td>0</td>\n",
       "      <td>0</td>\n",
       "      <td>0</td>\n",
       "      <td>0</td>\n",
       "      <td>0</td>\n",
       "      <td>1</td>\n",
       "    </tr>\n",
       "    <tr>\n",
       "      <th>3</th>\n",
       "      <td>867951213174</td>\n",
       "      <td>5642828</td>\n",
       "      <td>0</td>\n",
       "      <td>2016-04-29 17:29:31+00:00</td>\n",
       "      <td>2016-04-29 00:00:00+00:00</td>\n",
       "      <td>8</td>\n",
       "      <td>PONTAL DE CAMBURI</td>\n",
       "      <td>0</td>\n",
       "      <td>0</td>\n",
       "      <td>0</td>\n",
       "      <td>0</td>\n",
       "      <td>0</td>\n",
       "      <td>0</td>\n",
       "      <td>1</td>\n",
       "    </tr>\n",
       "    <tr>\n",
       "      <th>4</th>\n",
       "      <td>8841186448183</td>\n",
       "      <td>5642494</td>\n",
       "      <td>0</td>\n",
       "      <td>2016-04-29 16:07:23+00:00</td>\n",
       "      <td>2016-04-29 00:00:00+00:00</td>\n",
       "      <td>56</td>\n",
       "      <td>JARDIM DA PENHA</td>\n",
       "      <td>0</td>\n",
       "      <td>1</td>\n",
       "      <td>1</td>\n",
       "      <td>0</td>\n",
       "      <td>0</td>\n",
       "      <td>0</td>\n",
       "      <td>1</td>\n",
       "    </tr>\n",
       "  </tbody>\n",
       "</table>\n",
       "</div>"
      ],
      "text/plain": [
       "        patient_id  appointment_id  gender              scheduled_day  \\\n",
       "0   29872499824296         5642903       0  2016-04-29 18:38:08+00:00   \n",
       "1  558997776694438         5642503       1  2016-04-29 16:08:27+00:00   \n",
       "2    4262962299951         5642549       0  2016-04-29 16:19:04+00:00   \n",
       "3     867951213174         5642828       0  2016-04-29 17:29:31+00:00   \n",
       "4    8841186448183         5642494       0  2016-04-29 16:07:23+00:00   \n",
       "\n",
       "             appointment_day  age      neighbourhood  scholarship  \\\n",
       "0  2016-04-29 00:00:00+00:00   62    JARDIM DA PENHA            0   \n",
       "1  2016-04-29 00:00:00+00:00   56    JARDIM DA PENHA            0   \n",
       "2  2016-04-29 00:00:00+00:00   62      MATA DA PRAIA            0   \n",
       "3  2016-04-29 00:00:00+00:00    8  PONTAL DE CAMBURI            0   \n",
       "4  2016-04-29 00:00:00+00:00   56    JARDIM DA PENHA            0   \n",
       "\n",
       "   hipertension  diabetes  alcoholism  handicap  sms  show_up  \n",
       "0             1         0           0         0    0        1  \n",
       "1             0         0           0         0    0        1  \n",
       "2             0         0           0         0    0        1  \n",
       "3             0         0           0         0    0        1  \n",
       "4             1         1           0         0    0        1  "
      ]
     },
     "execution_count": 86,
     "metadata": {},
     "output_type": "execute_result"
    }
   ],
   "source": [
    "df.head()"
   ]
  },
  {
   "cell_type": "code",
   "execution_count": 87,
   "id": "choice-toolbox",
   "metadata": {},
   "outputs": [],
   "source": [
    "# dummy variables necessary?\n",
    "# neighbourhood?\n",
    "# visualize data?\n",
    "# improve prediction\n",
    "# split data\n",
    "# include dates (different formats)\n",
    "# repeating patient_id - differences?\n",
    "# delete appointment id\n",
    "# format age to bins"
   ]
  },
  {
   "cell_type": "code",
   "execution_count": 88,
   "id": "everyday-dominican",
   "metadata": {},
   "outputs": [
    {
     "data": {
      "text/plain": [
       "JARDIM CAMBURI                 7717\n",
       "MARIA ORTIZ                    5804\n",
       "RESISTÊNCIA                    4431\n",
       "JARDIM DA PENHA                3877\n",
       "ITARARÉ                        3514\n",
       "                               ... \n",
       "ILHA DO BOI                      35\n",
       "ILHA DO FRADE                    10\n",
       "AEROPORTO                         8\n",
       "ILHAS OCEÂNICAS DE TRINDADE       2\n",
       "PARQUE INDUSTRIAL                 1\n",
       "Name: neighbourhood, Length: 81, dtype: int64"
      ]
     },
     "execution_count": 88,
     "metadata": {},
     "output_type": "execute_result"
    }
   ],
   "source": [
    "df.neighbourhood.value_counts()"
   ]
  },
  {
   "cell_type": "markdown",
   "id": "yellow-cooper",
   "metadata": {},
   "source": [
    "## Implement logistic regression model"
   ]
  },
  {
   "cell_type": "code",
   "execution_count": 89,
   "id": "hawaiian-visit",
   "metadata": {},
   "outputs": [],
   "source": [
    "Y = df.show_up"
   ]
  },
  {
   "cell_type": "code",
   "execution_count": 90,
   "id": "protecting-latest",
   "metadata": {},
   "outputs": [
    {
     "ename": "SyntaxError",
     "evalue": "invalid syntax (<ipython-input-90-9bc9d3db8192>, line 2)",
     "output_type": "error",
     "traceback": [
      "\u001b[0;36m  File \u001b[0;32m\"<ipython-input-90-9bc9d3db8192>\"\u001b[0;36m, line \u001b[0;32m2\u001b[0m\n\u001b[0;31m    = df.drop(columns=['patient_id', 'appointment_id', 'scheduled_day', 'appointment_day', 'neighbourhood', 'show_up'])\u001b[0m\n\u001b[0m    ^\u001b[0m\n\u001b[0;31mSyntaxError\u001b[0m\u001b[0;31m:\u001b[0m invalid syntax\n"
     ]
    }
   ],
   "source": [
    "X \n",
    "= df.drop(columns=['patient_id', 'appointment_id', 'scheduled_day', 'appointment_day', 'neighbourhood', 'show_up'])"
   ]
  },
  {
   "cell_type": "code",
   "execution_count": 91,
   "id": "atlantic-audit",
   "metadata": {},
   "outputs": [],
   "source": [
    "model = LogisticRegression(solver='liblinear', random_state=0)"
   ]
  },
  {
   "cell_type": "code",
   "execution_count": 92,
   "id": "israeli-barbados",
   "metadata": {
    "scrolled": true
   },
   "outputs": [],
   "source": [
    "results = model.fit(X,Y)"
   ]
  },
  {
   "cell_type": "code",
   "execution_count": 93,
   "id": "behavioral-prompt",
   "metadata": {
    "scrolled": true
   },
   "outputs": [
    {
     "data": {
      "text/plain": [
       "array([0, 1])"
      ]
     },
     "execution_count": 93,
     "metadata": {},
     "output_type": "execute_result"
    }
   ],
   "source": [
    "model.classes_"
   ]
  },
  {
   "cell_type": "code",
   "execution_count": 94,
   "id": "turkish-stupid",
   "metadata": {},
   "outputs": [
    {
     "data": {
      "text/plain": [
       "array([1.38337123])"
      ]
     },
     "execution_count": 94,
     "metadata": {},
     "output_type": "execute_result"
    }
   ],
   "source": [
    "model.intercept_"
   ]
  },
  {
   "cell_type": "code",
   "execution_count": 95,
   "id": "written-matrix",
   "metadata": {},
   "outputs": [
    {
     "data": {
      "text/plain": [
       "array([[ 0.01791095,  0.00660273, -0.18430819,  0.06641824, -0.0851067 ,\n",
       "        -0.13930778, -0.02505656, -0.64967114]])"
      ]
     },
     "execution_count": 95,
     "metadata": {},
     "output_type": "execute_result"
    }
   ],
   "source": [
    "model.coef_"
   ]
  },
  {
   "cell_type": "code",
   "execution_count": 96,
   "id": "naughty-farmer",
   "metadata": {},
   "outputs": [
    {
     "data": {
      "text/plain": [
       "0.7980799681502728"
      ]
     },
     "execution_count": 96,
     "metadata": {},
     "output_type": "execute_result"
    }
   ],
   "source": [
    "model.score(X,Y)"
   ]
  },
  {
   "cell_type": "code",
   "execution_count": 97,
   "id": "scientific-parliament",
   "metadata": {},
   "outputs": [
    {
     "data": {
      "text/plain": [
       "array([[    0, 22316],\n",
       "       [    0, 88203]])"
      ]
     },
     "execution_count": 97,
     "metadata": {},
     "output_type": "execute_result"
    }
   ],
   "source": [
    "confusion_matrix(Y, model.predict(X))"
   ]
  },
  {
   "cell_type": "code",
   "execution_count": 98,
   "id": "brown-experience",
   "metadata": {
    "scrolled": true
   },
   "outputs": [
    {
     "name": "stdout",
     "output_type": "stream",
     "text": [
      "              precision    recall  f1-score   support\n",
      "\n",
      "           0       0.00      0.00      0.00     22316\n",
      "           1       0.80      1.00      0.89     88203\n",
      "\n",
      "    accuracy                           0.80    110519\n",
      "   macro avg       0.40      0.50      0.44    110519\n",
      "weighted avg       0.64      0.80      0.71    110519\n",
      "\n"
     ]
    },
    {
     "name": "stderr",
     "output_type": "stream",
     "text": [
      "/Users/anneruhnke/opt/anaconda3/lib/python3.8/site-packages/sklearn/metrics/_classification.py:1245: UndefinedMetricWarning: Precision and F-score are ill-defined and being set to 0.0 in labels with no predicted samples. Use `zero_division` parameter to control this behavior.\n",
      "  _warn_prf(average, modifier, msg_start, len(result))\n",
      "/Users/anneruhnke/opt/anaconda3/lib/python3.8/site-packages/sklearn/metrics/_classification.py:1245: UndefinedMetricWarning: Precision and F-score are ill-defined and being set to 0.0 in labels with no predicted samples. Use `zero_division` parameter to control this behavior.\n",
      "  _warn_prf(average, modifier, msg_start, len(result))\n",
      "/Users/anneruhnke/opt/anaconda3/lib/python3.8/site-packages/sklearn/metrics/_classification.py:1245: UndefinedMetricWarning: Precision and F-score are ill-defined and being set to 0.0 in labels with no predicted samples. Use `zero_division` parameter to control this behavior.\n",
      "  _warn_prf(average, modifier, msg_start, len(result))\n"
     ]
    }
   ],
   "source": [
    "print(classification_report(Y, model.predict(X)))"
   ]
  },
  {
   "cell_type": "markdown",
   "id": "overall-summit",
   "metadata": {},
   "source": [
    "______________________"
   ]
  },
  {
   "cell_type": "code",
   "execution_count": 107,
   "id": "inside-opera",
   "metadata": {},
   "outputs": [],
   "source": [
    "X_small = X.drop(columns=['age', 'hipertension', 'diabetes', 'alcoholism', 'handicap', 'sms'])"
   ]
  },
  {
   "cell_type": "code",
   "execution_count": 108,
   "id": "blank-chemical",
   "metadata": {},
   "outputs": [],
   "source": [
    "model_small = LogisticRegression(solver='liblinear', random_state=0)"
   ]
  },
  {
   "cell_type": "code",
   "execution_count": 109,
   "id": "perfect-richards",
   "metadata": {},
   "outputs": [],
   "source": [
    "results_small = model_small.fit(X_small,Y)"
   ]
  },
  {
   "cell_type": "code",
   "execution_count": 110,
   "id": "sunset-logging",
   "metadata": {},
   "outputs": [
    {
     "data": {
      "text/plain": [
       "array([[ 0.0041555 , -0.23030906]])"
      ]
     },
     "execution_count": 110,
     "metadata": {},
     "output_type": "execute_result"
    }
   ],
   "source": [
    "model.coef_"
   ]
  },
  {
   "cell_type": "markdown",
   "id": "raising-peeing",
   "metadata": {},
   "source": [
    "## Implement linear regression model"
   ]
  },
  {
   "cell_type": "code",
   "execution_count": 70,
   "id": "increased-peace",
   "metadata": {},
   "outputs": [],
   "source": [
    "#X = sm.add_constant(X)"
   ]
  },
  {
   "cell_type": "code",
   "execution_count": 71,
   "id": "confidential-reporter",
   "metadata": {},
   "outputs": [],
   "source": [
    "model = sm.OLS(Y,X)"
   ]
  },
  {
   "cell_type": "code",
   "execution_count": 72,
   "id": "spiritual-trance",
   "metadata": {},
   "outputs": [],
   "source": [
    "results = model.fit()"
   ]
  },
  {
   "cell_type": "code",
   "execution_count": 73,
   "id": "adolescent-premiere",
   "metadata": {},
   "outputs": [
    {
     "data": {
      "text/html": [
       "<table class=\"simpletable\">\n",
       "<caption>OLS Regression Results</caption>\n",
       "<tr>\n",
       "  <th>Dep. Variable:</th>         <td>show_up</td>     <th>  R-squared (uncentered):</th>      <td>   0.655</td> \n",
       "</tr>\n",
       "<tr>\n",
       "  <th>Model:</th>                   <td>OLS</td>       <th>  Adj. R-squared (uncentered):</th> <td>   0.655</td> \n",
       "</tr>\n",
       "<tr>\n",
       "  <th>Method:</th>             <td>Least Squares</td>  <th>  F-statistic:       </th>          <td>2.626e+04</td>\n",
       "</tr>\n",
       "<tr>\n",
       "  <th>Date:</th>             <td>Thu, 23 Jun 2022</td> <th>  Prob (F-statistic):</th>           <td>  0.00</td>  \n",
       "</tr>\n",
       "<tr>\n",
       "  <th>Time:</th>                 <td>12:19:46</td>     <th>  Log-Likelihood:    </th>          <td> -85502.</td> \n",
       "</tr>\n",
       "<tr>\n",
       "  <th>No. Observations:</th>      <td>110519</td>      <th>  AIC:               </th>          <td>1.710e+05</td>\n",
       "</tr>\n",
       "<tr>\n",
       "  <th>Df Residuals:</th>          <td>110511</td>      <th>  BIC:               </th>          <td>1.711e+05</td>\n",
       "</tr>\n",
       "<tr>\n",
       "  <th>Df Model:</th>              <td>     8</td>      <th>                     </th>              <td> </td>    \n",
       "</tr>\n",
       "<tr>\n",
       "  <th>Covariance Type:</th>      <td>nonrobust</td>    <th>                     </th>              <td> </td>    \n",
       "</tr>\n",
       "</table>\n",
       "<table class=\"simpletable\">\n",
       "<tr>\n",
       "        <td></td>          <th>coef</th>     <th>std err</th>      <th>t</th>      <th>P>|t|</th>  <th>[0.025</th>    <th>0.975]</th>  \n",
       "</tr>\n",
       "<tr>\n",
       "  <th>gender</th>       <td>    0.3217</td> <td>    0.003</td> <td>  105.541</td> <td> 0.000</td> <td>    0.316</td> <td>    0.328</td>\n",
       "</tr>\n",
       "<tr>\n",
       "  <th>age</th>          <td>    0.0137</td> <td> 5.54e-05</td> <td>  247.459</td> <td> 0.000</td> <td>    0.014</td> <td>    0.014</td>\n",
       "</tr>\n",
       "<tr>\n",
       "  <th>scholarship</th>  <td>    0.2782</td> <td>    0.005</td> <td>   53.655</td> <td> 0.000</td> <td>    0.268</td> <td>    0.288</td>\n",
       "</tr>\n",
       "<tr>\n",
       "  <th>hipertension</th> <td>   -0.1379</td> <td>    0.005</td> <td>  -28.373</td> <td> 0.000</td> <td>   -0.147</td> <td>   -0.128</td>\n",
       "</tr>\n",
       "<tr>\n",
       "  <th>diabetes</th>     <td>   -0.0539</td> <td>    0.007</td> <td>   -7.907</td> <td> 0.000</td> <td>   -0.067</td> <td>   -0.041</td>\n",
       "</tr>\n",
       "<tr>\n",
       "  <th>alcoholism</th>   <td>   -0.0991</td> <td>    0.009</td> <td>  -10.626</td> <td> 0.000</td> <td>   -0.117</td> <td>   -0.081</td>\n",
       "</tr>\n",
       "<tr>\n",
       "  <th>handicap</th>     <td>    0.0124</td> <td>    0.010</td> <td>    1.261</td> <td> 0.207</td> <td>   -0.007</td> <td>    0.032</td>\n",
       "</tr>\n",
       "<tr>\n",
       "  <th>sms</th>          <td>    0.1123</td> <td>    0.003</td> <td>   34.786</td> <td> 0.000</td> <td>    0.106</td> <td>    0.119</td>\n",
       "</tr>\n",
       "</table>\n",
       "<table class=\"simpletable\">\n",
       "<tr>\n",
       "  <th>Omnibus:</th>       <td>7327.709</td> <th>  Durbin-Watson:     </th> <td>   1.527</td>\n",
       "</tr>\n",
       "<tr>\n",
       "  <th>Prob(Omnibus):</th>  <td> 0.000</td>  <th>  Jarque-Bera (JB):  </th> <td>8896.632</td>\n",
       "</tr>\n",
       "<tr>\n",
       "  <th>Skew:</th>           <td>-0.694</td>  <th>  Prob(JB):          </th> <td>    0.00</td>\n",
       "</tr>\n",
       "<tr>\n",
       "  <th>Kurtosis:</th>       <td> 2.943</td>  <th>  Cond. No.          </th> <td>    272.</td>\n",
       "</tr>\n",
       "</table><br/><br/>Notes:<br/>[1] R² is computed without centering (uncentered) since the model does not contain a constant.<br/>[2] Standard Errors assume that the covariance matrix of the errors is correctly specified."
      ],
      "text/plain": [
       "<class 'statsmodels.iolib.summary.Summary'>\n",
       "\"\"\"\n",
       "                                 OLS Regression Results                                \n",
       "=======================================================================================\n",
       "Dep. Variable:                show_up   R-squared (uncentered):                   0.655\n",
       "Model:                            OLS   Adj. R-squared (uncentered):              0.655\n",
       "Method:                 Least Squares   F-statistic:                          2.626e+04\n",
       "Date:                Thu, 23 Jun 2022   Prob (F-statistic):                        0.00\n",
       "Time:                        12:19:46   Log-Likelihood:                         -85502.\n",
       "No. Observations:              110519   AIC:                                  1.710e+05\n",
       "Df Residuals:                  110511   BIC:                                  1.711e+05\n",
       "Df Model:                           8                                                  \n",
       "Covariance Type:            nonrobust                                                  \n",
       "================================================================================\n",
       "                   coef    std err          t      P>|t|      [0.025      0.975]\n",
       "--------------------------------------------------------------------------------\n",
       "gender           0.3217      0.003    105.541      0.000       0.316       0.328\n",
       "age              0.0137   5.54e-05    247.459      0.000       0.014       0.014\n",
       "scholarship      0.2782      0.005     53.655      0.000       0.268       0.288\n",
       "hipertension    -0.1379      0.005    -28.373      0.000      -0.147      -0.128\n",
       "diabetes        -0.0539      0.007     -7.907      0.000      -0.067      -0.041\n",
       "alcoholism      -0.0991      0.009    -10.626      0.000      -0.117      -0.081\n",
       "handicap         0.0124      0.010      1.261      0.207      -0.007       0.032\n",
       "sms              0.1123      0.003     34.786      0.000       0.106       0.119\n",
       "==============================================================================\n",
       "Omnibus:                     7327.709   Durbin-Watson:                   1.527\n",
       "Prob(Omnibus):                  0.000   Jarque-Bera (JB):             8896.632\n",
       "Skew:                          -0.694   Prob(JB):                         0.00\n",
       "Kurtosis:                       2.943   Cond. No.                         272.\n",
       "==============================================================================\n",
       "\n",
       "Notes:\n",
       "[1] R² is computed without centering (uncentered) since the model does not contain a constant.\n",
       "[2] Standard Errors assume that the covariance matrix of the errors is correctly specified.\n",
       "\"\"\""
      ]
     },
     "execution_count": 73,
     "metadata": {},
     "output_type": "execute_result"
    }
   ],
   "source": [
    "results.summary()"
   ]
  },
  {
   "cell_type": "markdown",
   "id": "unnecessary-playing",
   "metadata": {},
   "source": [
    "______________________"
   ]
  },
  {
   "cell_type": "code",
   "execution_count": 114,
   "id": "durable-newfoundland",
   "metadata": {},
   "outputs": [],
   "source": [
    "X_small = sm.add_constant(X_small)"
   ]
  },
  {
   "cell_type": "code",
   "execution_count": 115,
   "id": "human-aviation",
   "metadata": {},
   "outputs": [],
   "source": [
    "model_OLS_small = sm.OLS(Y,X_small)"
   ]
  },
  {
   "cell_type": "code",
   "execution_count": 116,
   "id": "employed-sweden",
   "metadata": {},
   "outputs": [],
   "source": [
    "results = model_OLS_small.fit()"
   ]
  },
  {
   "cell_type": "code",
   "execution_count": 117,
   "id": "comparative-michigan",
   "metadata": {},
   "outputs": [
    {
     "data": {
      "text/html": [
       "<table class=\"simpletable\">\n",
       "<caption>OLS Regression Results</caption>\n",
       "<tr>\n",
       "  <th>Dep. Variable:</th>         <td>show_up</td>     <th>  R-squared:         </th> <td>   0.001</td> \n",
       "</tr>\n",
       "<tr>\n",
       "  <th>Model:</th>                   <td>OLS</td>       <th>  Adj. R-squared:    </th> <td>   0.001</td> \n",
       "</tr>\n",
       "<tr>\n",
       "  <th>Method:</th>             <td>Least Squares</td>  <th>  F-statistic:       </th> <td>   47.02</td> \n",
       "</tr>\n",
       "<tr>\n",
       "  <th>Date:</th>             <td>Thu, 23 Jun 2022</td> <th>  Prob (F-statistic):</th> <td>3.89e-21</td> \n",
       "</tr>\n",
       "<tr>\n",
       "  <th>Time:</th>                 <td>12:27:13</td>     <th>  Log-Likelihood:    </th> <td> -55900.</td> \n",
       "</tr>\n",
       "<tr>\n",
       "  <th>No. Observations:</th>      <td>110519</td>      <th>  AIC:               </th> <td>1.118e+05</td>\n",
       "</tr>\n",
       "<tr>\n",
       "  <th>Df Residuals:</th>          <td>110516</td>      <th>  BIC:               </th> <td>1.118e+05</td>\n",
       "</tr>\n",
       "<tr>\n",
       "  <th>Df Model:</th>              <td>     2</td>      <th>                     </th>     <td> </td>    \n",
       "</tr>\n",
       "<tr>\n",
       "  <th>Covariance Type:</th>      <td>nonrobust</td>    <th>                     </th>     <td> </td>    \n",
       "</tr>\n",
       "</table>\n",
       "<table class=\"simpletable\">\n",
       "<tr>\n",
       "       <td></td>          <th>coef</th>     <th>std err</th>      <th>t</th>      <th>P>|t|</th>  <th>[0.025</th>    <th>0.975]</th>  \n",
       "</tr>\n",
       "<tr>\n",
       "  <th>const</th>       <td>    0.8017</td> <td>    0.002</td> <td>  507.596</td> <td> 0.000</td> <td>    0.799</td> <td>    0.805</td>\n",
       "</tr>\n",
       "<tr>\n",
       "  <th>gender</th>      <td>    0.0006</td> <td>    0.003</td> <td>    0.253</td> <td> 0.801</td> <td>   -0.004</td> <td>    0.006</td>\n",
       "</tr>\n",
       "<tr>\n",
       "  <th>scholarship</th> <td>   -0.0392</td> <td>    0.004</td> <td>   -9.601</td> <td> 0.000</td> <td>   -0.047</td> <td>   -0.031</td>\n",
       "</tr>\n",
       "</table>\n",
       "<table class=\"simpletable\">\n",
       "<tr>\n",
       "  <th>Omnibus:</th>       <td>22829.012</td> <th>  Durbin-Watson:     </th> <td>   1.788</td> \n",
       "</tr>\n",
       "<tr>\n",
       "  <th>Prob(Omnibus):</th>  <td> 0.000</td>   <th>  Jarque-Bera (JB):  </th> <td>40722.707</td>\n",
       "</tr>\n",
       "<tr>\n",
       "  <th>Skew:</th>           <td>-1.483</td>   <th>  Prob(JB):          </th> <td>    0.00</td> \n",
       "</tr>\n",
       "<tr>\n",
       "  <th>Kurtosis:</th>       <td> 3.206</td>   <th>  Cond. No.          </th> <td>    3.70</td> \n",
       "</tr>\n",
       "</table><br/><br/>Notes:<br/>[1] Standard Errors assume that the covariance matrix of the errors is correctly specified."
      ],
      "text/plain": [
       "<class 'statsmodels.iolib.summary.Summary'>\n",
       "\"\"\"\n",
       "                            OLS Regression Results                            \n",
       "==============================================================================\n",
       "Dep. Variable:                show_up   R-squared:                       0.001\n",
       "Model:                            OLS   Adj. R-squared:                  0.001\n",
       "Method:                 Least Squares   F-statistic:                     47.02\n",
       "Date:                Thu, 23 Jun 2022   Prob (F-statistic):           3.89e-21\n",
       "Time:                        12:27:13   Log-Likelihood:                -55900.\n",
       "No. Observations:              110519   AIC:                         1.118e+05\n",
       "Df Residuals:                  110516   BIC:                         1.118e+05\n",
       "Df Model:                           2                                         \n",
       "Covariance Type:            nonrobust                                         \n",
       "===============================================================================\n",
       "                  coef    std err          t      P>|t|      [0.025      0.975]\n",
       "-------------------------------------------------------------------------------\n",
       "const           0.8017      0.002    507.596      0.000       0.799       0.805\n",
       "gender          0.0006      0.003      0.253      0.801      -0.004       0.006\n",
       "scholarship    -0.0392      0.004     -9.601      0.000      -0.047      -0.031\n",
       "==============================================================================\n",
       "Omnibus:                    22829.012   Durbin-Watson:                   1.788\n",
       "Prob(Omnibus):                  0.000   Jarque-Bera (JB):            40722.707\n",
       "Skew:                          -1.483   Prob(JB):                         0.00\n",
       "Kurtosis:                       3.206   Cond. No.                         3.70\n",
       "==============================================================================\n",
       "\n",
       "Notes:\n",
       "[1] Standard Errors assume that the covariance matrix of the errors is correctly specified.\n",
       "\"\"\""
      ]
     },
     "execution_count": 117,
     "metadata": {},
     "output_type": "execute_result"
    }
   ],
   "source": [
    "results.summary()"
   ]
  },
  {
   "cell_type": "code",
   "execution_count": null,
   "id": "logical-prescription",
   "metadata": {},
   "outputs": [],
   "source": []
  }
 ],
 "metadata": {
  "kernelspec": {
   "display_name": "Python [conda env:root] *",
   "language": "python",
   "name": "conda-root-py"
  },
  "language_info": {
   "codemirror_mode": {
    "name": "ipython",
    "version": 3
   },
   "file_extension": ".py",
   "mimetype": "text/x-python",
   "name": "python",
   "nbconvert_exporter": "python",
   "pygments_lexer": "ipython3",
   "version": "3.8.8"
  }
 },
 "nbformat": 4,
 "nbformat_minor": 5
}
